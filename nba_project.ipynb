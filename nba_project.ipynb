{
 "cells": [
  {
   "cell_type": "markdown",
   "metadata": {},
   "source": [
    "# Web Scraping Basketball Reference Data"
   ]
  },
  {
   "cell_type": "markdown",
   "metadata": {},
   "source": [
    "I will be using the website Basketball-reference.com in order to scrap data of the players from multiple different seasons. This website provides clean sport data, thus making it easy to scrape the data and create my own database from the data gathered on the website.\n",
    "\n",
    "Now to import all the libraries we would need in order to begin web scarping the data from the website. "
   ]
  },
  {
   "cell_type": "code",
   "execution_count": 1,
   "metadata": {},
   "outputs": [],
   "source": [
    "# import needed libraries\n",
    "from urllib.request import urlopen\n",
    "from bs4 import BeautifulSoup\n",
    "import pandas as pd\n",
    "import numpy as np"
   ]
  },
  {
   "cell_type": "markdown",
   "metadata": {},
   "source": [
    "We will now create the function to gather data from the website. It will take in the year we want for that season. "
   ]
  },
  {
   "cell_type": "code",
   "execution_count": 19,
   "metadata": {},
   "outputs": [],
   "source": [
    "# function to gather data from the web parameter is the year\n",
    "def scrape_nba_data(years):\n",
    "    url = \"https://www.basketball-reference.com/leagues/NBA_{}_per_game.html\".format(years)\n",
    "\n",
    "    try:\n",
    "        html = urlopen(url)\n",
    "        soup = BeautifulSoup(html, features=\"lxml\")\n",
    "    except Exception as e:\n",
    "        print(f\"An error occurred: {e}\")\n",
    "        return None\n",
    "    \n",
    "    headers = [th.getText() for th in soup.findAll('tr', limit=2)[0].findAll('th')]\n",
    "    headers.remove('Rk')\n",
    "\n",
    "    rows = soup.findAll('tr')[1:]\n",
    "    rows_data = [[td.getText() for td in rows[i].findAll('td')] \n",
    "                    for i in range(len(rows))]\n",
    "    \n",
    "    df = pd.DataFrame(rows_data, columns=headers)\n",
    "    df.dropna(axis = 0, inplace=True)\n",
    "    df = df.reset_index(drop=True)\n",
    "\n",
    "    # Replace empty string with '0'\n",
    "    df.replace('', '0', inplace=True)   \n",
    "\n",
    "    # convert numeric columns to float\n",
    "    numeric_columns = df.columns.drop(['Player', 'Pos', 'Team'])\n",
    "    df[numeric_columns] = df[numeric_columns].apply(pd.to_numeric, errors='coerce')\n",
    "\n",
    "    # Add 'Year' column\n",
    "    df['Year'] = years\n",
    "\n",
    "    # Drop awards column\n",
    "    if 'Awards' in df.columns:\n",
    "        df.drop('Awards', axis=1, inplace=True)\n",
    "\n",
    "    return df"
   ]
  },
  {
   "cell_type": "markdown",
   "metadata": {},
   "source": [
    "Now that we created the function to be able to gather data let's test it out by looking at the 2020 - 2021 seaon."
   ]
  },
  {
   "cell_type": "code",
   "execution_count": 20,
   "metadata": {},
   "outputs": [
    {
     "data": {
      "text/html": [
       "<div>\n",
       "<style scoped>\n",
       "    .dataframe tbody tr th:only-of-type {\n",
       "        vertical-align: middle;\n",
       "    }\n",
       "\n",
       "    .dataframe tbody tr th {\n",
       "        vertical-align: top;\n",
       "    }\n",
       "\n",
       "    .dataframe thead th {\n",
       "        text-align: right;\n",
       "    }\n",
       "</style>\n",
       "<table border=\"1\" class=\"dataframe\">\n",
       "  <thead>\n",
       "    <tr style=\"text-align: right;\">\n",
       "      <th></th>\n",
       "      <th>Player</th>\n",
       "      <th>Age</th>\n",
       "      <th>Team</th>\n",
       "      <th>Pos</th>\n",
       "      <th>G</th>\n",
       "      <th>GS</th>\n",
       "      <th>MP</th>\n",
       "      <th>FG</th>\n",
       "      <th>FGA</th>\n",
       "      <th>FG%</th>\n",
       "      <th>...</th>\n",
       "      <th>ORB</th>\n",
       "      <th>DRB</th>\n",
       "      <th>TRB</th>\n",
       "      <th>AST</th>\n",
       "      <th>STL</th>\n",
       "      <th>BLK</th>\n",
       "      <th>TOV</th>\n",
       "      <th>PF</th>\n",
       "      <th>PTS</th>\n",
       "      <th>Year</th>\n",
       "    </tr>\n",
       "  </thead>\n",
       "  <tbody>\n",
       "    <tr>\n",
       "      <th>0</th>\n",
       "      <td>Stephen Curry</td>\n",
       "      <td>32</td>\n",
       "      <td>GSW</td>\n",
       "      <td>PG</td>\n",
       "      <td>63</td>\n",
       "      <td>63</td>\n",
       "      <td>34.2</td>\n",
       "      <td>10.4</td>\n",
       "      <td>21.7</td>\n",
       "      <td>0.482</td>\n",
       "      <td>...</td>\n",
       "      <td>0.5</td>\n",
       "      <td>5.0</td>\n",
       "      <td>5.5</td>\n",
       "      <td>5.8</td>\n",
       "      <td>1.2</td>\n",
       "      <td>0.1</td>\n",
       "      <td>3.4</td>\n",
       "      <td>1.9</td>\n",
       "      <td>32.0</td>\n",
       "      <td>2021</td>\n",
       "    </tr>\n",
       "    <tr>\n",
       "      <th>1</th>\n",
       "      <td>Bradley Beal</td>\n",
       "      <td>27</td>\n",
       "      <td>WAS</td>\n",
       "      <td>SG</td>\n",
       "      <td>60</td>\n",
       "      <td>60</td>\n",
       "      <td>35.8</td>\n",
       "      <td>11.2</td>\n",
       "      <td>23.0</td>\n",
       "      <td>0.485</td>\n",
       "      <td>...</td>\n",
       "      <td>1.2</td>\n",
       "      <td>3.5</td>\n",
       "      <td>4.7</td>\n",
       "      <td>4.4</td>\n",
       "      <td>1.2</td>\n",
       "      <td>0.4</td>\n",
       "      <td>3.1</td>\n",
       "      <td>2.3</td>\n",
       "      <td>31.3</td>\n",
       "      <td>2021</td>\n",
       "    </tr>\n",
       "    <tr>\n",
       "      <th>2</th>\n",
       "      <td>Damian Lillard</td>\n",
       "      <td>30</td>\n",
       "      <td>POR</td>\n",
       "      <td>PG</td>\n",
       "      <td>67</td>\n",
       "      <td>67</td>\n",
       "      <td>35.8</td>\n",
       "      <td>9.0</td>\n",
       "      <td>19.9</td>\n",
       "      <td>0.451</td>\n",
       "      <td>...</td>\n",
       "      <td>0.5</td>\n",
       "      <td>3.7</td>\n",
       "      <td>4.2</td>\n",
       "      <td>7.5</td>\n",
       "      <td>0.9</td>\n",
       "      <td>0.3</td>\n",
       "      <td>3.0</td>\n",
       "      <td>1.5</td>\n",
       "      <td>28.8</td>\n",
       "      <td>2021</td>\n",
       "    </tr>\n",
       "    <tr>\n",
       "      <th>3</th>\n",
       "      <td>Joel Embiid</td>\n",
       "      <td>26</td>\n",
       "      <td>PHI</td>\n",
       "      <td>C</td>\n",
       "      <td>51</td>\n",
       "      <td>51</td>\n",
       "      <td>31.1</td>\n",
       "      <td>9.0</td>\n",
       "      <td>17.6</td>\n",
       "      <td>0.513</td>\n",
       "      <td>...</td>\n",
       "      <td>2.2</td>\n",
       "      <td>8.4</td>\n",
       "      <td>10.6</td>\n",
       "      <td>2.8</td>\n",
       "      <td>1.0</td>\n",
       "      <td>1.4</td>\n",
       "      <td>3.1</td>\n",
       "      <td>2.4</td>\n",
       "      <td>28.5</td>\n",
       "      <td>2021</td>\n",
       "    </tr>\n",
       "    <tr>\n",
       "      <th>4</th>\n",
       "      <td>Giannis Antetokounmpo</td>\n",
       "      <td>26</td>\n",
       "      <td>MIL</td>\n",
       "      <td>PF</td>\n",
       "      <td>61</td>\n",
       "      <td>61</td>\n",
       "      <td>33.0</td>\n",
       "      <td>10.3</td>\n",
       "      <td>18.0</td>\n",
       "      <td>0.569</td>\n",
       "      <td>...</td>\n",
       "      <td>1.6</td>\n",
       "      <td>9.4</td>\n",
       "      <td>11.0</td>\n",
       "      <td>5.9</td>\n",
       "      <td>1.2</td>\n",
       "      <td>1.2</td>\n",
       "      <td>3.4</td>\n",
       "      <td>2.8</td>\n",
       "      <td>28.1</td>\n",
       "      <td>2021</td>\n",
       "    </tr>\n",
       "    <tr>\n",
       "      <th>...</th>\n",
       "      <td>...</td>\n",
       "      <td>...</td>\n",
       "      <td>...</td>\n",
       "      <td>...</td>\n",
       "      <td>...</td>\n",
       "      <td>...</td>\n",
       "      <td>...</td>\n",
       "      <td>...</td>\n",
       "      <td>...</td>\n",
       "      <td>...</td>\n",
       "      <td>...</td>\n",
       "      <td>...</td>\n",
       "      <td>...</td>\n",
       "      <td>...</td>\n",
       "      <td>...</td>\n",
       "      <td>...</td>\n",
       "      <td>...</td>\n",
       "      <td>...</td>\n",
       "      <td>...</td>\n",
       "      <td>...</td>\n",
       "      <td>...</td>\n",
       "    </tr>\n",
       "    <tr>\n",
       "      <th>941</th>\n",
       "      <td>Miye Oni</td>\n",
       "      <td>23</td>\n",
       "      <td>UTA</td>\n",
       "      <td>SG</td>\n",
       "      <td>8</td>\n",
       "      <td>0</td>\n",
       "      <td>5.1</td>\n",
       "      <td>0.0</td>\n",
       "      <td>0.6</td>\n",
       "      <td>0.000</td>\n",
       "      <td>...</td>\n",
       "      <td>0.4</td>\n",
       "      <td>0.0</td>\n",
       "      <td>0.4</td>\n",
       "      <td>0.0</td>\n",
       "      <td>0.1</td>\n",
       "      <td>0.0</td>\n",
       "      <td>0.0</td>\n",
       "      <td>1.0</td>\n",
       "      <td>0.0</td>\n",
       "      <td>2021</td>\n",
       "    </tr>\n",
       "    <tr>\n",
       "      <th>942</th>\n",
       "      <td>Matt Thomas</td>\n",
       "      <td>26</td>\n",
       "      <td>UTA</td>\n",
       "      <td>SG</td>\n",
       "      <td>3</td>\n",
       "      <td>0</td>\n",
       "      <td>2.3</td>\n",
       "      <td>0.0</td>\n",
       "      <td>0.7</td>\n",
       "      <td>0.000</td>\n",
       "      <td>...</td>\n",
       "      <td>0.0</td>\n",
       "      <td>0.3</td>\n",
       "      <td>0.3</td>\n",
       "      <td>0.0</td>\n",
       "      <td>0.0</td>\n",
       "      <td>0.0</td>\n",
       "      <td>0.0</td>\n",
       "      <td>0.3</td>\n",
       "      <td>0.0</td>\n",
       "      <td>2021</td>\n",
       "    </tr>\n",
       "    <tr>\n",
       "      <th>943</th>\n",
       "      <td>Isaac Bonga</td>\n",
       "      <td>21</td>\n",
       "      <td>WAS</td>\n",
       "      <td>SF</td>\n",
       "      <td>4</td>\n",
       "      <td>0</td>\n",
       "      <td>2.5</td>\n",
       "      <td>0.0</td>\n",
       "      <td>1.3</td>\n",
       "      <td>0.000</td>\n",
       "      <td>...</td>\n",
       "      <td>0.0</td>\n",
       "      <td>0.0</td>\n",
       "      <td>0.0</td>\n",
       "      <td>0.0</td>\n",
       "      <td>0.0</td>\n",
       "      <td>0.3</td>\n",
       "      <td>0.0</td>\n",
       "      <td>0.0</td>\n",
       "      <td>0.0</td>\n",
       "      <td>2021</td>\n",
       "    </tr>\n",
       "    <tr>\n",
       "      <th>944</th>\n",
       "      <td>Anthony Gill</td>\n",
       "      <td>28</td>\n",
       "      <td>WAS</td>\n",
       "      <td>PF</td>\n",
       "      <td>4</td>\n",
       "      <td>0</td>\n",
       "      <td>8.3</td>\n",
       "      <td>0.0</td>\n",
       "      <td>0.8</td>\n",
       "      <td>0.000</td>\n",
       "      <td>...</td>\n",
       "      <td>0.3</td>\n",
       "      <td>0.8</td>\n",
       "      <td>1.0</td>\n",
       "      <td>0.0</td>\n",
       "      <td>0.0</td>\n",
       "      <td>0.0</td>\n",
       "      <td>0.8</td>\n",
       "      <td>1.8</td>\n",
       "      <td>0.0</td>\n",
       "      <td>2021</td>\n",
       "    </tr>\n",
       "    <tr>\n",
       "      <th>945</th>\n",
       "      <td>League Average</td>\n",
       "      <td>0</td>\n",
       "      <td>0</td>\n",
       "      <td>0</td>\n",
       "      <td>0</td>\n",
       "      <td>0</td>\n",
       "      <td>0.0</td>\n",
       "      <td>0.0</td>\n",
       "      <td>0.0</td>\n",
       "      <td>0.462</td>\n",
       "      <td>...</td>\n",
       "      <td>0.0</td>\n",
       "      <td>0.0</td>\n",
       "      <td>0.0</td>\n",
       "      <td>0.0</td>\n",
       "      <td>0.0</td>\n",
       "      <td>0.0</td>\n",
       "      <td>0.0</td>\n",
       "      <td>0.0</td>\n",
       "      <td>0.0</td>\n",
       "      <td>2021</td>\n",
       "    </tr>\n",
       "  </tbody>\n",
       "</table>\n",
       "<p>946 rows × 30 columns</p>\n",
       "</div>"
      ],
      "text/plain": [
       "                    Player  Age Team Pos   G  GS    MP    FG   FGA    FG%  \\\n",
       "0            Stephen Curry   32  GSW  PG  63  63  34.2  10.4  21.7  0.482   \n",
       "1             Bradley Beal   27  WAS  SG  60  60  35.8  11.2  23.0  0.485   \n",
       "2           Damian Lillard   30  POR  PG  67  67  35.8   9.0  19.9  0.451   \n",
       "3              Joel Embiid   26  PHI   C  51  51  31.1   9.0  17.6  0.513   \n",
       "4    Giannis Antetokounmpo   26  MIL  PF  61  61  33.0  10.3  18.0  0.569   \n",
       "..                     ...  ...  ...  ..  ..  ..   ...   ...   ...    ...   \n",
       "941               Miye Oni   23  UTA  SG   8   0   5.1   0.0   0.6  0.000   \n",
       "942            Matt Thomas   26  UTA  SG   3   0   2.3   0.0   0.7  0.000   \n",
       "943            Isaac Bonga   21  WAS  SF   4   0   2.5   0.0   1.3  0.000   \n",
       "944           Anthony Gill   28  WAS  PF   4   0   8.3   0.0   0.8  0.000   \n",
       "945         League Average    0    0   0   0   0   0.0   0.0   0.0  0.462   \n",
       "\n",
       "     ...  ORB  DRB   TRB  AST  STL  BLK  TOV   PF   PTS  Year  \n",
       "0    ...  0.5  5.0   5.5  5.8  1.2  0.1  3.4  1.9  32.0  2021  \n",
       "1    ...  1.2  3.5   4.7  4.4  1.2  0.4  3.1  2.3  31.3  2021  \n",
       "2    ...  0.5  3.7   4.2  7.5  0.9  0.3  3.0  1.5  28.8  2021  \n",
       "3    ...  2.2  8.4  10.6  2.8  1.0  1.4  3.1  2.4  28.5  2021  \n",
       "4    ...  1.6  9.4  11.0  5.9  1.2  1.2  3.4  2.8  28.1  2021  \n",
       "..   ...  ...  ...   ...  ...  ...  ...  ...  ...   ...   ...  \n",
       "941  ...  0.4  0.0   0.4  0.0  0.1  0.0  0.0  1.0   0.0  2021  \n",
       "942  ...  0.0  0.3   0.3  0.0  0.0  0.0  0.0  0.3   0.0  2021  \n",
       "943  ...  0.0  0.0   0.0  0.0  0.0  0.3  0.0  0.0   0.0  2021  \n",
       "944  ...  0.3  0.8   1.0  0.0  0.0  0.0  0.8  1.8   0.0  2021  \n",
       "945  ...  0.0  0.0   0.0  0.0  0.0  0.0  0.0  0.0   0.0  2021  \n",
       "\n",
       "[946 rows x 30 columns]"
      ]
     },
     "execution_count": 20,
     "metadata": {},
     "output_type": "execute_result"
    }
   ],
   "source": [
    "# Test to make sure the function works\n",
    "NBA_season_2020_2021 = scrape_nba_data(2021)\n",
    "NBA_season_2020_2021"
   ]
  },
  {
   "cell_type": "code",
   "execution_count": 8,
   "metadata": {},
   "outputs": [
    {
     "name": "stdout",
     "output_type": "stream",
     "text": [
      "Defaulting to user installation because normal site-packages is not writeable\n",
      "Requirement already satisfied: mysql-connector-python in /Users/luis/Library/Python/3.9/lib/python/site-packages (8.3.0)\n",
      "\n",
      "\u001b[1m[\u001b[0m\u001b[34;49mnotice\u001b[0m\u001b[1;39;49m]\u001b[0m\u001b[39;49m A new release of pip is available: \u001b[0m\u001b[31;49m24.0\u001b[0m\u001b[39;49m -> \u001b[0m\u001b[32;49m24.2\u001b[0m\n",
      "\u001b[1m[\u001b[0m\u001b[34;49mnotice\u001b[0m\u001b[1;39;49m]\u001b[0m\u001b[39;49m To update, run: \u001b[0m\u001b[32;49m/Library/Developer/CommandLineTools/usr/bin/python3 -m pip install --upgrade pip\u001b[0m\n",
      "Note: you may need to restart the kernel to use updated packages.\n"
     ]
    }
   ],
   "source": [
    "pip install mysql-connector-python"
   ]
  },
  {
   "cell_type": "markdown",
   "metadata": {},
   "source": [
    "Now to create a database in order to hold all the data we just got from Basketball Reference"
   ]
  },
  {
   "cell_type": "code",
   "execution_count": 30,
   "metadata": {},
   "outputs": [],
   "source": [
    "import mysql.connector \n",
    "\n",
    "# Establish the connection\n",
    "database = mysql.connector.connect(user='root', password='Xnomxslayer123!@#', host='localhost')\n",
    "\n",
    "# Create a cursor object\n",
    "cursor = database.cursor()\n",
    "\n",
    "# Create the new database\n",
    "cursor.execute(\"CREATE DATABASE IF NOT EXISTS nba_database\")\n",
    "\n",
    "# Use the new database\n",
    "cursor.execute(\"USE nba_database\")"
   ]
  },
  {
   "cell_type": "markdown",
   "metadata": {},
   "source": [
    "Now we will create the table that we will to store the data."
   ]
  },
  {
   "cell_type": "code",
   "execution_count": 31,
   "metadata": {},
   "outputs": [],
   "source": [
    "cursor.execute(\"DROP TABLE IF EXISTS player_stats\")"
   ]
  },
  {
   "cell_type": "code",
   "execution_count": 32,
   "metadata": {},
   "outputs": [
    {
     "data": {
      "text/plain": [
       "Index(['Player', 'Age', 'Team', 'Pos', 'G', 'GS', 'MP', 'FG', 'FGA', 'FG%',\n",
       "       '3P', '3PA', '3P%', '2P', '2PA', '2P%', 'eFG%', 'FT', 'FTA', 'FT%',\n",
       "       'ORB', 'DRB', 'TRB', 'AST', 'STL', 'BLK', 'TOV', 'PF', 'PTS', 'Year'],\n",
       "      dtype='object')"
      ]
     },
     "execution_count": 32,
     "metadata": {},
     "output_type": "execute_result"
    }
   ],
   "source": [
    "NBA_season_2020_2021.columns"
   ]
  },
  {
   "cell_type": "code",
   "execution_count": 33,
   "metadata": {},
   "outputs": [],
   "source": [
    "# Create a new table\n",
    "cursor.execute(\"\"\"CREATE TABLE player_stats\n",
    "                (Player VARCHAR(50),\n",
    "                Pos VARCHAR(10),\n",
    "                Age INT,\n",
    "                Team VARCHAR(10),\n",
    "                G INT,\n",
    "                GS INT,\n",
    "                MP FLOAT,\n",
    "                FG FLOAT,\n",
    "                FGA FLOAT,\n",
    "                FG_PCT FLOAT,\n",
    "                3P FLOAT,\n",
    "                3PA FLOAT,\n",
    "                3P_PCT FLOAT,\n",
    "                2P FLOAT,\n",
    "                2PA FLOAT,\n",
    "                2P_PCT FLOAT,\n",
    "                EFG_PCT FLOAT,\n",
    "                FT FLOAT,\n",
    "                FTA FLOAT,\n",
    "                FT_PCT FLOAT,\n",
    "                ORB FLOAT,\n",
    "                DRB FLOAT,\n",
    "                TRB FLOAT,\n",
    "                AST FLOAT,\n",
    "                STL FLOAT,\n",
    "                BLK FLOAT,\n",
    "                TOV FLOAT,\n",
    "                PF FLOAT,\n",
    "                PTS FLOAT,\n",
    "                Year INT)\n",
    "               \"\"\")"
   ]
  },
  {
   "cell_type": "markdown",
   "metadata": {},
   "source": [
    "Finally we can start adding values into our new table by creating a function that will take in a Pandas Dataframe and then it will insert everything intot the database."
   ]
  },
  {
   "cell_type": "code",
   "execution_count": 34,
   "metadata": {},
   "outputs": [],
   "source": [
    "# Create a function to insert data into the table with a parameter of a dataframe\n",
    "def insert_data(nba_season):\n",
    "    for index, row in nba_season.iterrows():\n",
    "        query = \"\"\"INSERT INTO player_stats(Player, Pos, Age, Team, G, GS, MP, FG, FGA, FG_PCT, 3P, 3PA, 3P_PCT, 2P, 2PA, 2P_PCT, \n",
    "                                            EFG_PCT, FT, FTA, FT_PCT, ORB, DRB, TRB, AST, STL, BLK, TOV, PF, PTS, Year)\n",
    "                                            VALUES(%s, %s, %s, %s, %s, %s, %s, %s, %s, %s, %s, %s, %s, %s, %s, %s, %s, %s, %s, %s, %s,\n",
    "                                            %s, %s, %s, %s, %s, %s, %s, %s, %s)\"\"\"\n",
    "        data = (row['Player'], row['Pos'], row['Age'], row['Team'], row['G'], row['GS'], row['MP'], row['FG'], row['FGA'], row['FG%'], \n",
    "                row['3P'], row['3PA'], row['3P%'], row['2P'], row['2PA'], row['2P%'], row['eFG%'], row['FT'], row['FTA'], row['FT%'], row['ORB'], \n",
    "                row['DRB'], row['TRB'], row['AST'], row['STL'], row['BLK'], row['TOV'], row['PF'], row['PTS'], row['Year'])\n",
    "        cursor.execute(query, data)\n",
    "\n",
    "    # commit the transaction\n",
    "    database.commit()\n",
    "    # Consume any remaining unread results\n",
    "    while cursor.nextset():\n",
    "        pass\n"
   ]
  },
  {
   "cell_type": "markdown",
   "metadata": {},
   "source": [
    "Now to insert the player stats from the the 2020-2021 season into the database."
   ]
  },
  {
   "cell_type": "code",
   "execution_count": 35,
   "metadata": {},
   "outputs": [],
   "source": [
    "insert_data(NBA_season_2020_2021)"
   ]
  },
  {
   "cell_type": "markdown",
   "metadata": {},
   "source": [
    "Test to make sure we were able to correctly insert data into the database by looking at the first 5 rows."
   ]
  },
  {
   "cell_type": "code",
   "execution_count": 36,
   "metadata": {},
   "outputs": [
    {
     "name": "stdout",
     "output_type": "stream",
     "text": [
      "('Stephen Curry', 'PG', 32, 'GSW', 63, 63, 34.2, 10.4, 21.7, 0.482, 5.3, 12.7, 0.421, 5.1, 9.0, 0.569, 0.605, 5.7, 6.3, 0.916, 0.5, 5.0, 5.5, 5.8, 1.2, 0.1, 3.4, 1.9, 32.0, 2021)\n",
      "('Bradley Beal', 'SG', 27, 'WAS', 60, 60, 35.8, 11.2, 23.0, 0.485, 2.2, 6.2, 0.349, 9.0, 16.8, 0.535, 0.532, 6.8, 7.7, 0.889, 1.2, 3.5, 4.7, 4.4, 1.2, 0.4, 3.1, 2.3, 31.3, 2021)\n",
      "('Damian Lillard', 'PG', 30, 'POR', 67, 67, 35.8, 9.0, 19.9, 0.451, 4.1, 10.5, 0.391, 4.9, 9.4, 0.519, 0.554, 6.7, 7.2, 0.928, 0.5, 3.7, 4.2, 7.5, 0.9, 0.3, 3.0, 1.5, 28.8, 2021)\n",
      "('Joel Embiid', 'C', 26, 'PHI', 51, 51, 31.1, 9.0, 17.6, 0.513, 1.1, 3.0, 0.377, 7.9, 14.6, 0.541, 0.545, 9.2, 10.7, 0.859, 2.2, 8.4, 10.6, 2.8, 1.0, 1.4, 3.1, 2.4, 28.5, 2021)\n",
      "('Giannis Antetokounmpo', 'PF', 26, 'MIL', 61, 61, 33.0, 10.3, 18.0, 0.569, 1.1, 3.6, 0.303, 9.2, 14.4, 0.636, 0.6, 6.5, 9.5, 0.685, 1.6, 9.4, 11.0, 5.9, 1.2, 1.2, 3.4, 2.8, 28.1, 2021)\n"
     ]
    }
   ],
   "source": [
    "query = \"\"\"\n",
    "    SELECT * \n",
    "    FROM player_stats\n",
    "    LIMIT 5\n",
    "    \"\"\"\n",
    "\n",
    "cursor.execute(query)\n",
    "\n",
    "rows = cursor.fetchall()\n",
    "\n",
    "for row in rows:\n",
    "    print(row)"
   ]
  },
  {
   "cell_type": "code",
   "execution_count": 37,
   "metadata": {},
   "outputs": [
    {
     "name": "stdout",
     "output_type": "stream",
     "text": [
      "                  Player Pos  Age Team   G  GS    MP    FG   FGA  FG_PCT  ...  \\\n",
      "0          Stephen Curry  PG   32  GSW  63  63  34.2  10.4  21.7   0.482  ...   \n",
      "1           Bradley Beal  SG   27  WAS  60  60  35.8  11.2  23.0   0.485  ...   \n",
      "2         Damian Lillard  PG   30  POR  67  67  35.8   9.0  19.9   0.451  ...   \n",
      "3            Joel Embiid   C   26  PHI  51  51  31.1   9.0  17.6   0.513  ...   \n",
      "4  Giannis Antetokounmpo  PF   26  MIL  61  61  33.0  10.3  18.0   0.569  ...   \n",
      "\n",
      "   ORB  DRB   TRB  AST  STL  BLK  TOV   PF   PTS  Year  \n",
      "0  0.5  5.0   5.5  5.8  1.2  0.1  3.4  1.9  32.0  2021  \n",
      "1  1.2  3.5   4.7  4.4  1.2  0.4  3.1  2.3  31.3  2021  \n",
      "2  0.5  3.7   4.2  7.5  0.9  0.3  3.0  1.5  28.8  2021  \n",
      "3  2.2  8.4  10.6  2.8  1.0  1.4  3.1  2.4  28.5  2021  \n",
      "4  1.6  9.4  11.0  5.9  1.2  1.2  3.4  2.8  28.1  2021  \n",
      "\n",
      "[5 rows x 30 columns]\n"
     ]
    },
    {
     "name": "stderr",
     "output_type": "stream",
     "text": [
      "/var/folders/wc/mqxkmhbn1vzchsh52r6msgwm0000gn/T/ipykernel_46015/1271988993.py:7: UserWarning: pandas only supports SQLAlchemy connectable (engine/connection) or database string URI or sqlite3 DBAPI2 connection. Other DBAPI2 objects are not tested. Please consider using SQLAlchemy.\n",
      "  df = pd.read_sql_query(query, database)\n"
     ]
    }
   ],
   "source": [
    "query = \"\"\" \n",
    "        SELECT * \n",
    "        FROM player_stats\n",
    "        LIMIT 5\n",
    "        \"\"\"\n",
    "\n",
    "df = pd.read_sql_query(query, database)\n",
    "print(df)"
   ]
  },
  {
   "cell_type": "markdown",
   "metadata": {},
   "source": [
    "Now that we can see that it worked we will now be able to gather more data from Basketball reference and store into the database for future analytical work on the data. "
   ]
  },
  {
   "cell_type": "code",
   "execution_count": 38,
   "metadata": {},
   "outputs": [
    {
     "data": {
      "text/html": [
       "<div>\n",
       "<style scoped>\n",
       "    .dataframe tbody tr th:only-of-type {\n",
       "        vertical-align: middle;\n",
       "    }\n",
       "\n",
       "    .dataframe tbody tr th {\n",
       "        vertical-align: top;\n",
       "    }\n",
       "\n",
       "    .dataframe thead th {\n",
       "        text-align: right;\n",
       "    }\n",
       "</style>\n",
       "<table border=\"1\" class=\"dataframe\">\n",
       "  <thead>\n",
       "    <tr style=\"text-align: right;\">\n",
       "      <th></th>\n",
       "      <th>Player</th>\n",
       "      <th>Age</th>\n",
       "      <th>Team</th>\n",
       "      <th>Pos</th>\n",
       "      <th>G</th>\n",
       "      <th>GS</th>\n",
       "      <th>MP</th>\n",
       "      <th>FG</th>\n",
       "      <th>FGA</th>\n",
       "      <th>FG%</th>\n",
       "      <th>...</th>\n",
       "      <th>ORB</th>\n",
       "      <th>DRB</th>\n",
       "      <th>TRB</th>\n",
       "      <th>AST</th>\n",
       "      <th>STL</th>\n",
       "      <th>BLK</th>\n",
       "      <th>TOV</th>\n",
       "      <th>PF</th>\n",
       "      <th>PTS</th>\n",
       "      <th>Year</th>\n",
       "    </tr>\n",
       "  </thead>\n",
       "  <tbody>\n",
       "    <tr>\n",
       "      <th>0</th>\n",
       "      <td>Stephen Curry</td>\n",
       "      <td>32</td>\n",
       "      <td>GSW</td>\n",
       "      <td>PG</td>\n",
       "      <td>63</td>\n",
       "      <td>63</td>\n",
       "      <td>34.2</td>\n",
       "      <td>10.4</td>\n",
       "      <td>21.7</td>\n",
       "      <td>0.482</td>\n",
       "      <td>...</td>\n",
       "      <td>0.5</td>\n",
       "      <td>5.0</td>\n",
       "      <td>5.5</td>\n",
       "      <td>5.8</td>\n",
       "      <td>1.2</td>\n",
       "      <td>0.1</td>\n",
       "      <td>3.4</td>\n",
       "      <td>1.9</td>\n",
       "      <td>32.0</td>\n",
       "      <td>2021</td>\n",
       "    </tr>\n",
       "    <tr>\n",
       "      <th>1</th>\n",
       "      <td>Bradley Beal</td>\n",
       "      <td>27</td>\n",
       "      <td>WAS</td>\n",
       "      <td>SG</td>\n",
       "      <td>60</td>\n",
       "      <td>60</td>\n",
       "      <td>35.8</td>\n",
       "      <td>11.2</td>\n",
       "      <td>23.0</td>\n",
       "      <td>0.485</td>\n",
       "      <td>...</td>\n",
       "      <td>1.2</td>\n",
       "      <td>3.5</td>\n",
       "      <td>4.7</td>\n",
       "      <td>4.4</td>\n",
       "      <td>1.2</td>\n",
       "      <td>0.4</td>\n",
       "      <td>3.1</td>\n",
       "      <td>2.3</td>\n",
       "      <td>31.3</td>\n",
       "      <td>2021</td>\n",
       "    </tr>\n",
       "    <tr>\n",
       "      <th>2</th>\n",
       "      <td>Damian Lillard</td>\n",
       "      <td>30</td>\n",
       "      <td>POR</td>\n",
       "      <td>PG</td>\n",
       "      <td>67</td>\n",
       "      <td>67</td>\n",
       "      <td>35.8</td>\n",
       "      <td>9.0</td>\n",
       "      <td>19.9</td>\n",
       "      <td>0.451</td>\n",
       "      <td>...</td>\n",
       "      <td>0.5</td>\n",
       "      <td>3.7</td>\n",
       "      <td>4.2</td>\n",
       "      <td>7.5</td>\n",
       "      <td>0.9</td>\n",
       "      <td>0.3</td>\n",
       "      <td>3.0</td>\n",
       "      <td>1.5</td>\n",
       "      <td>28.8</td>\n",
       "      <td>2021</td>\n",
       "    </tr>\n",
       "    <tr>\n",
       "      <th>3</th>\n",
       "      <td>Joel Embiid</td>\n",
       "      <td>26</td>\n",
       "      <td>PHI</td>\n",
       "      <td>C</td>\n",
       "      <td>51</td>\n",
       "      <td>51</td>\n",
       "      <td>31.1</td>\n",
       "      <td>9.0</td>\n",
       "      <td>17.6</td>\n",
       "      <td>0.513</td>\n",
       "      <td>...</td>\n",
       "      <td>2.2</td>\n",
       "      <td>8.4</td>\n",
       "      <td>10.6</td>\n",
       "      <td>2.8</td>\n",
       "      <td>1.0</td>\n",
       "      <td>1.4</td>\n",
       "      <td>3.1</td>\n",
       "      <td>2.4</td>\n",
       "      <td>28.5</td>\n",
       "      <td>2021</td>\n",
       "    </tr>\n",
       "    <tr>\n",
       "      <th>4</th>\n",
       "      <td>Giannis Antetokounmpo</td>\n",
       "      <td>26</td>\n",
       "      <td>MIL</td>\n",
       "      <td>PF</td>\n",
       "      <td>61</td>\n",
       "      <td>61</td>\n",
       "      <td>33.0</td>\n",
       "      <td>10.3</td>\n",
       "      <td>18.0</td>\n",
       "      <td>0.569</td>\n",
       "      <td>...</td>\n",
       "      <td>1.6</td>\n",
       "      <td>9.4</td>\n",
       "      <td>11.0</td>\n",
       "      <td>5.9</td>\n",
       "      <td>1.2</td>\n",
       "      <td>1.2</td>\n",
       "      <td>3.4</td>\n",
       "      <td>2.8</td>\n",
       "      <td>28.1</td>\n",
       "      <td>2021</td>\n",
       "    </tr>\n",
       "    <tr>\n",
       "      <th>...</th>\n",
       "      <td>...</td>\n",
       "      <td>...</td>\n",
       "      <td>...</td>\n",
       "      <td>...</td>\n",
       "      <td>...</td>\n",
       "      <td>...</td>\n",
       "      <td>...</td>\n",
       "      <td>...</td>\n",
       "      <td>...</td>\n",
       "      <td>...</td>\n",
       "      <td>...</td>\n",
       "      <td>...</td>\n",
       "      <td>...</td>\n",
       "      <td>...</td>\n",
       "      <td>...</td>\n",
       "      <td>...</td>\n",
       "      <td>...</td>\n",
       "      <td>...</td>\n",
       "      <td>...</td>\n",
       "      <td>...</td>\n",
       "      <td>...</td>\n",
       "    </tr>\n",
       "    <tr>\n",
       "      <th>941</th>\n",
       "      <td>Miye Oni</td>\n",
       "      <td>23</td>\n",
       "      <td>UTA</td>\n",
       "      <td>SG</td>\n",
       "      <td>8</td>\n",
       "      <td>0</td>\n",
       "      <td>5.1</td>\n",
       "      <td>0.0</td>\n",
       "      <td>0.6</td>\n",
       "      <td>0.000</td>\n",
       "      <td>...</td>\n",
       "      <td>0.4</td>\n",
       "      <td>0.0</td>\n",
       "      <td>0.4</td>\n",
       "      <td>0.0</td>\n",
       "      <td>0.1</td>\n",
       "      <td>0.0</td>\n",
       "      <td>0.0</td>\n",
       "      <td>1.0</td>\n",
       "      <td>0.0</td>\n",
       "      <td>2021</td>\n",
       "    </tr>\n",
       "    <tr>\n",
       "      <th>942</th>\n",
       "      <td>Matt Thomas</td>\n",
       "      <td>26</td>\n",
       "      <td>UTA</td>\n",
       "      <td>SG</td>\n",
       "      <td>3</td>\n",
       "      <td>0</td>\n",
       "      <td>2.3</td>\n",
       "      <td>0.0</td>\n",
       "      <td>0.7</td>\n",
       "      <td>0.000</td>\n",
       "      <td>...</td>\n",
       "      <td>0.0</td>\n",
       "      <td>0.3</td>\n",
       "      <td>0.3</td>\n",
       "      <td>0.0</td>\n",
       "      <td>0.0</td>\n",
       "      <td>0.0</td>\n",
       "      <td>0.0</td>\n",
       "      <td>0.3</td>\n",
       "      <td>0.0</td>\n",
       "      <td>2021</td>\n",
       "    </tr>\n",
       "    <tr>\n",
       "      <th>943</th>\n",
       "      <td>Isaac Bonga</td>\n",
       "      <td>21</td>\n",
       "      <td>WAS</td>\n",
       "      <td>SF</td>\n",
       "      <td>4</td>\n",
       "      <td>0</td>\n",
       "      <td>2.5</td>\n",
       "      <td>0.0</td>\n",
       "      <td>1.3</td>\n",
       "      <td>0.000</td>\n",
       "      <td>...</td>\n",
       "      <td>0.0</td>\n",
       "      <td>0.0</td>\n",
       "      <td>0.0</td>\n",
       "      <td>0.0</td>\n",
       "      <td>0.0</td>\n",
       "      <td>0.3</td>\n",
       "      <td>0.0</td>\n",
       "      <td>0.0</td>\n",
       "      <td>0.0</td>\n",
       "      <td>2021</td>\n",
       "    </tr>\n",
       "    <tr>\n",
       "      <th>944</th>\n",
       "      <td>Anthony Gill</td>\n",
       "      <td>28</td>\n",
       "      <td>WAS</td>\n",
       "      <td>PF</td>\n",
       "      <td>4</td>\n",
       "      <td>0</td>\n",
       "      <td>8.3</td>\n",
       "      <td>0.0</td>\n",
       "      <td>0.8</td>\n",
       "      <td>0.000</td>\n",
       "      <td>...</td>\n",
       "      <td>0.3</td>\n",
       "      <td>0.8</td>\n",
       "      <td>1.0</td>\n",
       "      <td>0.0</td>\n",
       "      <td>0.0</td>\n",
       "      <td>0.0</td>\n",
       "      <td>0.8</td>\n",
       "      <td>1.8</td>\n",
       "      <td>0.0</td>\n",
       "      <td>2021</td>\n",
       "    </tr>\n",
       "    <tr>\n",
       "      <th>945</th>\n",
       "      <td>League Average</td>\n",
       "      <td>0</td>\n",
       "      <td>0</td>\n",
       "      <td>0</td>\n",
       "      <td>0</td>\n",
       "      <td>0</td>\n",
       "      <td>0.0</td>\n",
       "      <td>0.0</td>\n",
       "      <td>0.0</td>\n",
       "      <td>0.462</td>\n",
       "      <td>...</td>\n",
       "      <td>0.0</td>\n",
       "      <td>0.0</td>\n",
       "      <td>0.0</td>\n",
       "      <td>0.0</td>\n",
       "      <td>0.0</td>\n",
       "      <td>0.0</td>\n",
       "      <td>0.0</td>\n",
       "      <td>0.0</td>\n",
       "      <td>0.0</td>\n",
       "      <td>2021</td>\n",
       "    </tr>\n",
       "  </tbody>\n",
       "</table>\n",
       "<p>946 rows × 30 columns</p>\n",
       "</div>"
      ],
      "text/plain": [
       "                    Player  Age Team Pos   G  GS    MP    FG   FGA    FG%  \\\n",
       "0            Stephen Curry   32  GSW  PG  63  63  34.2  10.4  21.7  0.482   \n",
       "1             Bradley Beal   27  WAS  SG  60  60  35.8  11.2  23.0  0.485   \n",
       "2           Damian Lillard   30  POR  PG  67  67  35.8   9.0  19.9  0.451   \n",
       "3              Joel Embiid   26  PHI   C  51  51  31.1   9.0  17.6  0.513   \n",
       "4    Giannis Antetokounmpo   26  MIL  PF  61  61  33.0  10.3  18.0  0.569   \n",
       "..                     ...  ...  ...  ..  ..  ..   ...   ...   ...    ...   \n",
       "941               Miye Oni   23  UTA  SG   8   0   5.1   0.0   0.6  0.000   \n",
       "942            Matt Thomas   26  UTA  SG   3   0   2.3   0.0   0.7  0.000   \n",
       "943            Isaac Bonga   21  WAS  SF   4   0   2.5   0.0   1.3  0.000   \n",
       "944           Anthony Gill   28  WAS  PF   4   0   8.3   0.0   0.8  0.000   \n",
       "945         League Average    0    0   0   0   0   0.0   0.0   0.0  0.462   \n",
       "\n",
       "     ...  ORB  DRB   TRB  AST  STL  BLK  TOV   PF   PTS  Year  \n",
       "0    ...  0.5  5.0   5.5  5.8  1.2  0.1  3.4  1.9  32.0  2021  \n",
       "1    ...  1.2  3.5   4.7  4.4  1.2  0.4  3.1  2.3  31.3  2021  \n",
       "2    ...  0.5  3.7   4.2  7.5  0.9  0.3  3.0  1.5  28.8  2021  \n",
       "3    ...  2.2  8.4  10.6  2.8  1.0  1.4  3.1  2.4  28.5  2021  \n",
       "4    ...  1.6  9.4  11.0  5.9  1.2  1.2  3.4  2.8  28.1  2021  \n",
       "..   ...  ...  ...   ...  ...  ...  ...  ...  ...   ...   ...  \n",
       "941  ...  0.4  0.0   0.4  0.0  0.1  0.0  0.0  1.0   0.0  2021  \n",
       "942  ...  0.0  0.3   0.3  0.0  0.0  0.0  0.0  0.3   0.0  2021  \n",
       "943  ...  0.0  0.0   0.0  0.0  0.0  0.3  0.0  0.0   0.0  2021  \n",
       "944  ...  0.3  0.8   1.0  0.0  0.0  0.0  0.8  1.8   0.0  2021  \n",
       "945  ...  0.0  0.0   0.0  0.0  0.0  0.0  0.0  0.0   0.0  2021  \n",
       "\n",
       "[946 rows x 30 columns]"
      ]
     },
     "execution_count": 38,
     "metadata": {},
     "output_type": "execute_result"
    }
   ],
   "source": [
    "NBA_season_2020_2021"
   ]
  },
  {
   "cell_type": "markdown",
   "metadata": {},
   "source": [
    "Let's gather data from the last 14 years of the NBA including the current season."
   ]
  },
  {
   "cell_type": "code",
   "execution_count": 39,
   "metadata": {},
   "outputs": [],
   "source": [
    "# Gathering data using the function we created to scrape and clean the data\n",
    "NBA_season_2023_2024 = scrape_nba_data(2024)\n",
    "NBA_season_2022_2023 = scrape_nba_data(2023)\n",
    "NBA_season_2021_2022 = scrape_nba_data(2022)\n",
    "NBA_season_2020_2021 = scrape_nba_data(2021)\n",
    "NBA_season_2019_2020 = scrape_nba_data(2020)\n",
    "NBA_season_2018_2019 = scrape_nba_data(2019)\n",
    "NBA_season_2017_2018 = scrape_nba_data(2018)\n",
    "NBA_season_2016_2017 = scrape_nba_data(2017)\n",
    "NBA_season_2015_2016 = scrape_nba_data(2016)\n",
    "NBA_season_2014_2015 = scrape_nba_data(2015)\n",
    "NBA_season_2013_2014 = scrape_nba_data(2014)\n",
    "NBA_season_2012_2013 = scrape_nba_data(2013)\n",
    "NBA_season_2011_2012 = scrape_nba_data(2012)\n",
    "NBA_season_2010_2011 = scrape_nba_data(2011)\n",
    "NBA_season_2009_2010 = scrape_nba_data(2010)"
   ]
  },
  {
   "cell_type": "markdown",
   "metadata": {},
   "source": [
    "Now we will insert the data we gathered from the past 14 years of NBA players statistics into the database we created earlier."
   ]
  },
  {
   "cell_type": "code",
   "execution_count": 40,
   "metadata": {},
   "outputs": [],
   "source": [
    "# here we are inserting the data into the database with the function we created\n",
    "insert_data(NBA_season_2023_2024)\n",
    "insert_data(NBA_season_2022_2023)\n",
    "insert_data(NBA_season_2021_2022)\n",
    "insert_data(NBA_season_2019_2020)\n",
    "insert_data(NBA_season_2018_2019)\n",
    "insert_data(NBA_season_2017_2018)\n",
    "insert_data(NBA_season_2016_2017)\n",
    "insert_data(NBA_season_2015_2016)\n",
    "insert_data(NBA_season_2014_2015)\n",
    "insert_data(NBA_season_2013_2014)\n",
    "insert_data(NBA_season_2012_2013)\n",
    "insert_data(NBA_season_2011_2012)\n",
    "insert_data(NBA_season_2010_2011)\n",
    "insert_data(NBA_season_2009_2010)\n"
   ]
  },
  {
   "cell_type": "code",
   "execution_count": 41,
   "metadata": {},
   "outputs": [
    {
     "name": "stdout",
     "output_type": "stream",
     "text": [
      "Number of rows in the table:  12920\n"
     ]
    }
   ],
   "source": [
    "# We are going to look at the number of rows in the table to make sure the data was inserted.\n",
    "query = \"\"\" \n",
    "        SELECT COUNT(*)\n",
    "        FROM player_stats\n",
    "        \"\"\"\n",
    "\n",
    "# Execute the query\n",
    "cursor.execute(query)\n",
    "\n",
    "# Fetch the results\n",
    "rows = cursor.fetchone()\n",
    "\n",
    "print(\"Number of rows in the table: \", rows[0])\n"
   ]
  },
  {
   "cell_type": "markdown",
   "metadata": {},
   "source": [
    "Now that we know we have the data stored in the database correctly we can now continue with making some visualizatons in order to get some insight from all the data we just got. After, we will move to tableau to create a dashboard to answer some analytical questions. "
   ]
  },
  {
   "cell_type": "markdown",
   "metadata": {},
   "source": [
    "The first question that I would like to be answered is if there is any correlation between a player's age and thier performance(like points per game, assists, rebounds, etc)?"
   ]
  },
  {
   "cell_type": "markdown",
   "metadata": {},
   "source": [
    "First install and import the import libraries needed."
   ]
  },
  {
   "cell_type": "code",
   "execution_count": 42,
   "metadata": {},
   "outputs": [],
   "source": [
    "import seaborn as sns\n",
    "import plotly.express as px\n",
    "import plotly.graph_objects as go\n",
    "sns.set()"
   ]
  },
  {
   "cell_type": "code",
   "execution_count": 43,
   "metadata": {},
   "outputs": [
    {
     "name": "stdout",
     "output_type": "stream",
     "text": [
      "            Player  Age Team Pos  G  GS   MP   FG  FGA  FG%  ...  ORB  DRB  \\\n",
      "563  Udonis Haslem   40  MIA   C  1   0  3.0  2.0  2.0  1.0  ...  0.0  1.0   \n",
      "\n",
      "     TRB  AST  STL  BLK  TOV   PF  PTS  Year  \n",
      "563  1.0  0.0  0.0  0.0  0.0  0.0  4.0  2021  \n",
      "\n",
      "[1 rows x 30 columns]\n"
     ]
    }
   ],
   "source": [
    "# Lets get the oldest player from last season \n",
    "old_player = NBA_season_2020_2021[NBA_season_2020_2021['Age'] == NBA_season_2020_2021['Age'].max()]\n",
    "print(old_player)\n"
   ]
  },
  {
   "cell_type": "markdown",
   "metadata": {},
   "source": [
    "We can't use this as he does not have many games played lets look at someone with at least 20 minutes played to get better results."
   ]
  },
  {
   "cell_type": "code",
   "execution_count": 44,
   "metadata": {},
   "outputs": [
    {
     "name": "stdout",
     "output_type": "stream",
     "text": [
      "             Player  Age Team Pos   G  GS    MP   FG  FGA    FG%  ...  ORB  \\\n",
      "531  Andre Iguodala   37  MIA  SF  63   5  21.3  1.5  3.9  0.383  ...  0.6   \n",
      "\n",
      "     DRB  TRB  AST  STL  BLK  TOV   PF  PTS  Year  \n",
      "531  2.9  3.5  2.3  0.9  0.6  1.1  1.4  4.4  2021  \n",
      "\n",
      "[1 rows x 30 columns]\n"
     ]
    }
   ],
   "source": [
    "# Get the oldest player with at least 20 minutes played per game\n",
    "old_player = NBA_season_2020_2021[NBA_season_2020_2021['MP'] >= 20.0].sort_values('Age', ascending=False).head(1)\n",
    "print(old_player)"
   ]
  },
  {
   "cell_type": "code",
   "execution_count": 45,
   "metadata": {},
   "outputs": [
    {
     "name": "stdout",
     "output_type": "stream",
     "text": [
      "               Player  Age Team Pos   G  GS    MP   FG  FGA    FG%  ...  ORB  \\\n",
      "292  Patrick Williams   19  CHI  PF  71  71  27.9  3.6  7.4  0.483  ...  0.9   \n",
      "\n",
      "     DRB  TRB  AST  STL  BLK  TOV   PF  PTS  Year  \n",
      "292  3.7  4.6  1.4  0.9  0.6  1.4  1.8  9.2  2021  \n",
      "\n",
      "[1 rows x 30 columns]\n"
     ]
    }
   ],
   "source": [
    "youngest_player = NBA_season_2020_2021[NBA_season_2020_2021['MP'] >= 20.0].sort_values('Age', ascending=True).head(1)\n",
    "print(youngest_player)"
   ]
  },
  {
   "cell_type": "code",
   "execution_count": 46,
   "metadata": {},
   "outputs": [
    {
     "data": {
      "application/vnd.plotly.v1+json": {
       "config": {
        "plotlyServerURL": "https://plot.ly"
       },
       "data": [
        {
         "name": "Andre Iguodala",
         "type": "bar",
         "x": [
          "PTS",
          "AST",
          "TRB"
         ],
         "y": [
          4.4,
          2.3,
          3.5
         ]
        },
        {
         "name": "Patrick Williams",
         "type": "bar",
         "x": [
          "PTS",
          "AST",
          "TRB"
         ],
         "y": [
          9.2,
          1.4,
          4.6
         ]
        }
       ],
       "layout": {
        "barmode": "group",
        "template": {
         "data": {
          "bar": [
           {
            "error_x": {
             "color": "#2a3f5f"
            },
            "error_y": {
             "color": "#2a3f5f"
            },
            "marker": {
             "line": {
              "color": "#E5ECF6",
              "width": 0.5
             },
             "pattern": {
              "fillmode": "overlay",
              "size": 10,
              "solidity": 0.2
             }
            },
            "type": "bar"
           }
          ],
          "barpolar": [
           {
            "marker": {
             "line": {
              "color": "#E5ECF6",
              "width": 0.5
             },
             "pattern": {
              "fillmode": "overlay",
              "size": 10,
              "solidity": 0.2
             }
            },
            "type": "barpolar"
           }
          ],
          "carpet": [
           {
            "aaxis": {
             "endlinecolor": "#2a3f5f",
             "gridcolor": "white",
             "linecolor": "white",
             "minorgridcolor": "white",
             "startlinecolor": "#2a3f5f"
            },
            "baxis": {
             "endlinecolor": "#2a3f5f",
             "gridcolor": "white",
             "linecolor": "white",
             "minorgridcolor": "white",
             "startlinecolor": "#2a3f5f"
            },
            "type": "carpet"
           }
          ],
          "choropleth": [
           {
            "colorbar": {
             "outlinewidth": 0,
             "ticks": ""
            },
            "type": "choropleth"
           }
          ],
          "contour": [
           {
            "colorbar": {
             "outlinewidth": 0,
             "ticks": ""
            },
            "colorscale": [
             [
              0,
              "#0d0887"
             ],
             [
              0.1111111111111111,
              "#46039f"
             ],
             [
              0.2222222222222222,
              "#7201a8"
             ],
             [
              0.3333333333333333,
              "#9c179e"
             ],
             [
              0.4444444444444444,
              "#bd3786"
             ],
             [
              0.5555555555555556,
              "#d8576b"
             ],
             [
              0.6666666666666666,
              "#ed7953"
             ],
             [
              0.7777777777777778,
              "#fb9f3a"
             ],
             [
              0.8888888888888888,
              "#fdca26"
             ],
             [
              1,
              "#f0f921"
             ]
            ],
            "type": "contour"
           }
          ],
          "contourcarpet": [
           {
            "colorbar": {
             "outlinewidth": 0,
             "ticks": ""
            },
            "type": "contourcarpet"
           }
          ],
          "heatmap": [
           {
            "colorbar": {
             "outlinewidth": 0,
             "ticks": ""
            },
            "colorscale": [
             [
              0,
              "#0d0887"
             ],
             [
              0.1111111111111111,
              "#46039f"
             ],
             [
              0.2222222222222222,
              "#7201a8"
             ],
             [
              0.3333333333333333,
              "#9c179e"
             ],
             [
              0.4444444444444444,
              "#bd3786"
             ],
             [
              0.5555555555555556,
              "#d8576b"
             ],
             [
              0.6666666666666666,
              "#ed7953"
             ],
             [
              0.7777777777777778,
              "#fb9f3a"
             ],
             [
              0.8888888888888888,
              "#fdca26"
             ],
             [
              1,
              "#f0f921"
             ]
            ],
            "type": "heatmap"
           }
          ],
          "heatmapgl": [
           {
            "colorbar": {
             "outlinewidth": 0,
             "ticks": ""
            },
            "colorscale": [
             [
              0,
              "#0d0887"
             ],
             [
              0.1111111111111111,
              "#46039f"
             ],
             [
              0.2222222222222222,
              "#7201a8"
             ],
             [
              0.3333333333333333,
              "#9c179e"
             ],
             [
              0.4444444444444444,
              "#bd3786"
             ],
             [
              0.5555555555555556,
              "#d8576b"
             ],
             [
              0.6666666666666666,
              "#ed7953"
             ],
             [
              0.7777777777777778,
              "#fb9f3a"
             ],
             [
              0.8888888888888888,
              "#fdca26"
             ],
             [
              1,
              "#f0f921"
             ]
            ],
            "type": "heatmapgl"
           }
          ],
          "histogram": [
           {
            "marker": {
             "pattern": {
              "fillmode": "overlay",
              "size": 10,
              "solidity": 0.2
             }
            },
            "type": "histogram"
           }
          ],
          "histogram2d": [
           {
            "colorbar": {
             "outlinewidth": 0,
             "ticks": ""
            },
            "colorscale": [
             [
              0,
              "#0d0887"
             ],
             [
              0.1111111111111111,
              "#46039f"
             ],
             [
              0.2222222222222222,
              "#7201a8"
             ],
             [
              0.3333333333333333,
              "#9c179e"
             ],
             [
              0.4444444444444444,
              "#bd3786"
             ],
             [
              0.5555555555555556,
              "#d8576b"
             ],
             [
              0.6666666666666666,
              "#ed7953"
             ],
             [
              0.7777777777777778,
              "#fb9f3a"
             ],
             [
              0.8888888888888888,
              "#fdca26"
             ],
             [
              1,
              "#f0f921"
             ]
            ],
            "type": "histogram2d"
           }
          ],
          "histogram2dcontour": [
           {
            "colorbar": {
             "outlinewidth": 0,
             "ticks": ""
            },
            "colorscale": [
             [
              0,
              "#0d0887"
             ],
             [
              0.1111111111111111,
              "#46039f"
             ],
             [
              0.2222222222222222,
              "#7201a8"
             ],
             [
              0.3333333333333333,
              "#9c179e"
             ],
             [
              0.4444444444444444,
              "#bd3786"
             ],
             [
              0.5555555555555556,
              "#d8576b"
             ],
             [
              0.6666666666666666,
              "#ed7953"
             ],
             [
              0.7777777777777778,
              "#fb9f3a"
             ],
             [
              0.8888888888888888,
              "#fdca26"
             ],
             [
              1,
              "#f0f921"
             ]
            ],
            "type": "histogram2dcontour"
           }
          ],
          "mesh3d": [
           {
            "colorbar": {
             "outlinewidth": 0,
             "ticks": ""
            },
            "type": "mesh3d"
           }
          ],
          "parcoords": [
           {
            "line": {
             "colorbar": {
              "outlinewidth": 0,
              "ticks": ""
             }
            },
            "type": "parcoords"
           }
          ],
          "pie": [
           {
            "automargin": true,
            "type": "pie"
           }
          ],
          "scatter": [
           {
            "fillpattern": {
             "fillmode": "overlay",
             "size": 10,
             "solidity": 0.2
            },
            "type": "scatter"
           }
          ],
          "scatter3d": [
           {
            "line": {
             "colorbar": {
              "outlinewidth": 0,
              "ticks": ""
             }
            },
            "marker": {
             "colorbar": {
              "outlinewidth": 0,
              "ticks": ""
             }
            },
            "type": "scatter3d"
           }
          ],
          "scattercarpet": [
           {
            "marker": {
             "colorbar": {
              "outlinewidth": 0,
              "ticks": ""
             }
            },
            "type": "scattercarpet"
           }
          ],
          "scattergeo": [
           {
            "marker": {
             "colorbar": {
              "outlinewidth": 0,
              "ticks": ""
             }
            },
            "type": "scattergeo"
           }
          ],
          "scattergl": [
           {
            "marker": {
             "colorbar": {
              "outlinewidth": 0,
              "ticks": ""
             }
            },
            "type": "scattergl"
           }
          ],
          "scattermapbox": [
           {
            "marker": {
             "colorbar": {
              "outlinewidth": 0,
              "ticks": ""
             }
            },
            "type": "scattermapbox"
           }
          ],
          "scatterpolar": [
           {
            "marker": {
             "colorbar": {
              "outlinewidth": 0,
              "ticks": ""
             }
            },
            "type": "scatterpolar"
           }
          ],
          "scatterpolargl": [
           {
            "marker": {
             "colorbar": {
              "outlinewidth": 0,
              "ticks": ""
             }
            },
            "type": "scatterpolargl"
           }
          ],
          "scatterternary": [
           {
            "marker": {
             "colorbar": {
              "outlinewidth": 0,
              "ticks": ""
             }
            },
            "type": "scatterternary"
           }
          ],
          "surface": [
           {
            "colorbar": {
             "outlinewidth": 0,
             "ticks": ""
            },
            "colorscale": [
             [
              0,
              "#0d0887"
             ],
             [
              0.1111111111111111,
              "#46039f"
             ],
             [
              0.2222222222222222,
              "#7201a8"
             ],
             [
              0.3333333333333333,
              "#9c179e"
             ],
             [
              0.4444444444444444,
              "#bd3786"
             ],
             [
              0.5555555555555556,
              "#d8576b"
             ],
             [
              0.6666666666666666,
              "#ed7953"
             ],
             [
              0.7777777777777778,
              "#fb9f3a"
             ],
             [
              0.8888888888888888,
              "#fdca26"
             ],
             [
              1,
              "#f0f921"
             ]
            ],
            "type": "surface"
           }
          ],
          "table": [
           {
            "cells": {
             "fill": {
              "color": "#EBF0F8"
             },
             "line": {
              "color": "white"
             }
            },
            "header": {
             "fill": {
              "color": "#C8D4E3"
             },
             "line": {
              "color": "white"
             }
            },
            "type": "table"
           }
          ]
         },
         "layout": {
          "annotationdefaults": {
           "arrowcolor": "#2a3f5f",
           "arrowhead": 0,
           "arrowwidth": 1
          },
          "autotypenumbers": "strict",
          "coloraxis": {
           "colorbar": {
            "outlinewidth": 0,
            "ticks": ""
           }
          },
          "colorscale": {
           "diverging": [
            [
             0,
             "#8e0152"
            ],
            [
             0.1,
             "#c51b7d"
            ],
            [
             0.2,
             "#de77ae"
            ],
            [
             0.3,
             "#f1b6da"
            ],
            [
             0.4,
             "#fde0ef"
            ],
            [
             0.5,
             "#f7f7f7"
            ],
            [
             0.6,
             "#e6f5d0"
            ],
            [
             0.7,
             "#b8e186"
            ],
            [
             0.8,
             "#7fbc41"
            ],
            [
             0.9,
             "#4d9221"
            ],
            [
             1,
             "#276419"
            ]
           ],
           "sequential": [
            [
             0,
             "#0d0887"
            ],
            [
             0.1111111111111111,
             "#46039f"
            ],
            [
             0.2222222222222222,
             "#7201a8"
            ],
            [
             0.3333333333333333,
             "#9c179e"
            ],
            [
             0.4444444444444444,
             "#bd3786"
            ],
            [
             0.5555555555555556,
             "#d8576b"
            ],
            [
             0.6666666666666666,
             "#ed7953"
            ],
            [
             0.7777777777777778,
             "#fb9f3a"
            ],
            [
             0.8888888888888888,
             "#fdca26"
            ],
            [
             1,
             "#f0f921"
            ]
           ],
           "sequentialminus": [
            [
             0,
             "#0d0887"
            ],
            [
             0.1111111111111111,
             "#46039f"
            ],
            [
             0.2222222222222222,
             "#7201a8"
            ],
            [
             0.3333333333333333,
             "#9c179e"
            ],
            [
             0.4444444444444444,
             "#bd3786"
            ],
            [
             0.5555555555555556,
             "#d8576b"
            ],
            [
             0.6666666666666666,
             "#ed7953"
            ],
            [
             0.7777777777777778,
             "#fb9f3a"
            ],
            [
             0.8888888888888888,
             "#fdca26"
            ],
            [
             1,
             "#f0f921"
            ]
           ]
          },
          "colorway": [
           "#636efa",
           "#EF553B",
           "#00cc96",
           "#ab63fa",
           "#FFA15A",
           "#19d3f3",
           "#FF6692",
           "#B6E880",
           "#FF97FF",
           "#FECB52"
          ],
          "font": {
           "color": "#2a3f5f"
          },
          "geo": {
           "bgcolor": "white",
           "lakecolor": "white",
           "landcolor": "#E5ECF6",
           "showlakes": true,
           "showland": true,
           "subunitcolor": "white"
          },
          "hoverlabel": {
           "align": "left"
          },
          "hovermode": "closest",
          "mapbox": {
           "style": "light"
          },
          "paper_bgcolor": "white",
          "plot_bgcolor": "#E5ECF6",
          "polar": {
           "angularaxis": {
            "gridcolor": "white",
            "linecolor": "white",
            "ticks": ""
           },
           "bgcolor": "#E5ECF6",
           "radialaxis": {
            "gridcolor": "white",
            "linecolor": "white",
            "ticks": ""
           }
          },
          "scene": {
           "xaxis": {
            "backgroundcolor": "#E5ECF6",
            "gridcolor": "white",
            "gridwidth": 2,
            "linecolor": "white",
            "showbackground": true,
            "ticks": "",
            "zerolinecolor": "white"
           },
           "yaxis": {
            "backgroundcolor": "#E5ECF6",
            "gridcolor": "white",
            "gridwidth": 2,
            "linecolor": "white",
            "showbackground": true,
            "ticks": "",
            "zerolinecolor": "white"
           },
           "zaxis": {
            "backgroundcolor": "#E5ECF6",
            "gridcolor": "white",
            "gridwidth": 2,
            "linecolor": "white",
            "showbackground": true,
            "ticks": "",
            "zerolinecolor": "white"
           }
          },
          "shapedefaults": {
           "line": {
            "color": "#2a3f5f"
           }
          },
          "ternary": {
           "aaxis": {
            "gridcolor": "white",
            "linecolor": "white",
            "ticks": ""
           },
           "baxis": {
            "gridcolor": "white",
            "linecolor": "white",
            "ticks": ""
           },
           "bgcolor": "#E5ECF6",
           "caxis": {
            "gridcolor": "white",
            "linecolor": "white",
            "ticks": ""
           }
          },
          "title": {
           "x": 0.05
          },
          "xaxis": {
           "automargin": true,
           "gridcolor": "white",
           "linecolor": "white",
           "ticks": "",
           "title": {
            "standoff": 15
           },
           "zerolinecolor": "white",
           "zerolinewidth": 2
          },
          "yaxis": {
           "automargin": true,
           "gridcolor": "white",
           "linecolor": "white",
           "ticks": "",
           "title": {
            "standoff": 15
           },
           "zerolinecolor": "white",
           "zerolinewidth": 2
          }
         }
        }
       }
      }
     },
     "metadata": {},
     "output_type": "display_data"
    }
   ],
   "source": [
    "# First select the stats we want to compare\n",
    "stats = ['PTS', 'AST', 'TRB']\n",
    "\n",
    "# Let get the players name\n",
    "old_player_name = old_player['Player'].values[0]\n",
    "youngest_player_name = youngest_player['Player'].values[0]\n",
    "\n",
    "# Get the stats for each player\n",
    "old_plaer_stats = old_player[stats].values.flatten()\n",
    "young_player_stats = youngest_player[stats].values.flatten()\n",
    "\n",
    "#Create the bar chart\n",
    "fig = go.Figure(data=[\n",
    "    go.Bar(name=old_player_name, x = stats, y = old_plaer_stats),\n",
    "    go.Bar(name=youngest_player_name, x = stats, y = young_player_stats)\n",
    "])\n",
    "\n",
    "# Group the bar mode\n",
    "fig.update_layout(barmode='group')\n",
    "\n",
    "# Show the figure\n",
    "fig.show()"
   ]
  },
  {
   "cell_type": "markdown",
   "metadata": {},
   "source": [
    "Just by looking at the graph we can see that a younger player has a better chance of having better stats then someone who is older but we can still see that there is some difference in the amount of time played and games."
   ]
  },
  {
   "cell_type": "markdown",
   "metadata": {},
   "source": [
    "We are going to look at the old and youngest player's in that play the same position as each other and compare it that to see if we can see any difference between the two. "
   ]
  },
  {
   "cell_type": "code",
   "execution_count": 47,
   "metadata": {},
   "outputs": [],
   "source": [
    "# Get data for youngest and oldest PG\n",
    "youngest_pg = NBA_season_2022_2023[(NBA_season_2022_2023['Pos'] == 'PG') & (NBA_season_2022_2023['MP'] >= 20.0)].sort_values('Age', ascending=True).head(1)\n",
    "oldest_pg = NBA_season_2022_2023[(NBA_season_2022_2023['Pos'] == 'PG') & (NBA_season_2022_2023['MP'] >= 20.0)].sort_values('Age', ascending=False).head(1)\n",
    "\n",
    "# Get data for the youngest and oldest SG\n",
    "youngest_sg = NBA_season_2022_2023[(NBA_season_2022_2023['Pos'] == 'SG') & (NBA_season_2022_2023['MP'] >= 20.0)].sort_values('Age', ascending=True).head(1)\n",
    "oldest_sg = NBA_season_2022_2023[(NBA_season_2022_2023['Pos'] == 'SG') & (NBA_season_2022_2023['MP'] >= 20.0)].sort_values('Age', ascending=False).head(1)\n",
    "\n",
    "# Get data for youngest and oldest SF\n",
    "youngest_sf = NBA_season_2022_2023[(NBA_season_2022_2023['Pos'] == 'SF') & (NBA_season_2022_2023['MP'] >= 20.0)].sort_values('Age', ascending=True).head(1)\n",
    "oldest_sf = NBA_season_2022_2023[(NBA_season_2022_2023['Pos'] == 'SF') & (NBA_season_2022_2023['MP'] >= 20.0)].sort_values('Age', ascending=False).head(1)\n",
    "\n",
    "# Get the data for the youngest and oldest PF\n",
    "youngest_pf = NBA_season_2022_2023[(NBA_season_2022_2023['Pos'] == 'PF') & (NBA_season_2022_2023['MP'] >= 20.0)].sort_values('Age', ascending=True).head(1)\n",
    "oldest_pf = NBA_season_2022_2023[(NBA_season_2022_2023['Pos'] == 'PF') & (NBA_season_2022_2023['MP'] >= 20.0)].sort_values('Age', ascending=False).head(1)\n",
    "\n",
    "# Get the data for the youngest and oldest C\n",
    "youngest_c = NBA_season_2022_2023[(NBA_season_2022_2023['Pos'] == 'C') & (NBA_season_2022_2023['MP'] >= 20.0)].sort_values('Age', ascending=True).head(1)\n",
    "oldest_c = NBA_season_2022_2023[(NBA_season_2022_2023['Pos'] == 'C') & (NBA_season_2022_2023['MP'] >= 20.0)].sort_values('Age', ascending=False).head(1)    \n",
    "\n"
   ]
  },
  {
   "cell_type": "code",
   "execution_count": 48,
   "metadata": {},
   "outputs": [
    {
     "data": {
      "application/vnd.plotly.v1+json": {
       "config": {
        "plotlyServerURL": "https://plot.ly"
       },
       "data": [
        {
         "name": "Youngest",
         "text": [
          "Cade Cunningham",
          "Malaki Branham",
          "Scottie Barnes",
          "Jabari Smith Jr.",
          "Jalen Duren"
         ],
         "textposition": "auto",
         "type": "bar",
         "x": [
          "PG",
          "SG",
          "SF",
          "PF",
          "C"
         ],
         "y": [
          21,
          19,
          21,
          19,
          19
         ]
        },
        {
         "name": "Oldest",
         "text": [
          "Chris Paul",
          "Eric Gordon",
          "Wesley Matthews",
          "LeBron James",
          "Al Horford"
         ],
         "textposition": "auto",
         "type": "bar",
         "x": [
          "PG",
          "SG",
          "SF",
          "PF",
          "C"
         ],
         "y": [
          37,
          34,
          36,
          38,
          36
         ]
        }
       ],
       "layout": {
        "barmode": "group",
        "template": {
         "data": {
          "bar": [
           {
            "error_x": {
             "color": "#2a3f5f"
            },
            "error_y": {
             "color": "#2a3f5f"
            },
            "marker": {
             "line": {
              "color": "#E5ECF6",
              "width": 0.5
             },
             "pattern": {
              "fillmode": "overlay",
              "size": 10,
              "solidity": 0.2
             }
            },
            "type": "bar"
           }
          ],
          "barpolar": [
           {
            "marker": {
             "line": {
              "color": "#E5ECF6",
              "width": 0.5
             },
             "pattern": {
              "fillmode": "overlay",
              "size": 10,
              "solidity": 0.2
             }
            },
            "type": "barpolar"
           }
          ],
          "carpet": [
           {
            "aaxis": {
             "endlinecolor": "#2a3f5f",
             "gridcolor": "white",
             "linecolor": "white",
             "minorgridcolor": "white",
             "startlinecolor": "#2a3f5f"
            },
            "baxis": {
             "endlinecolor": "#2a3f5f",
             "gridcolor": "white",
             "linecolor": "white",
             "minorgridcolor": "white",
             "startlinecolor": "#2a3f5f"
            },
            "type": "carpet"
           }
          ],
          "choropleth": [
           {
            "colorbar": {
             "outlinewidth": 0,
             "ticks": ""
            },
            "type": "choropleth"
           }
          ],
          "contour": [
           {
            "colorbar": {
             "outlinewidth": 0,
             "ticks": ""
            },
            "colorscale": [
             [
              0,
              "#0d0887"
             ],
             [
              0.1111111111111111,
              "#46039f"
             ],
             [
              0.2222222222222222,
              "#7201a8"
             ],
             [
              0.3333333333333333,
              "#9c179e"
             ],
             [
              0.4444444444444444,
              "#bd3786"
             ],
             [
              0.5555555555555556,
              "#d8576b"
             ],
             [
              0.6666666666666666,
              "#ed7953"
             ],
             [
              0.7777777777777778,
              "#fb9f3a"
             ],
             [
              0.8888888888888888,
              "#fdca26"
             ],
             [
              1,
              "#f0f921"
             ]
            ],
            "type": "contour"
           }
          ],
          "contourcarpet": [
           {
            "colorbar": {
             "outlinewidth": 0,
             "ticks": ""
            },
            "type": "contourcarpet"
           }
          ],
          "heatmap": [
           {
            "colorbar": {
             "outlinewidth": 0,
             "ticks": ""
            },
            "colorscale": [
             [
              0,
              "#0d0887"
             ],
             [
              0.1111111111111111,
              "#46039f"
             ],
             [
              0.2222222222222222,
              "#7201a8"
             ],
             [
              0.3333333333333333,
              "#9c179e"
             ],
             [
              0.4444444444444444,
              "#bd3786"
             ],
             [
              0.5555555555555556,
              "#d8576b"
             ],
             [
              0.6666666666666666,
              "#ed7953"
             ],
             [
              0.7777777777777778,
              "#fb9f3a"
             ],
             [
              0.8888888888888888,
              "#fdca26"
             ],
             [
              1,
              "#f0f921"
             ]
            ],
            "type": "heatmap"
           }
          ],
          "heatmapgl": [
           {
            "colorbar": {
             "outlinewidth": 0,
             "ticks": ""
            },
            "colorscale": [
             [
              0,
              "#0d0887"
             ],
             [
              0.1111111111111111,
              "#46039f"
             ],
             [
              0.2222222222222222,
              "#7201a8"
             ],
             [
              0.3333333333333333,
              "#9c179e"
             ],
             [
              0.4444444444444444,
              "#bd3786"
             ],
             [
              0.5555555555555556,
              "#d8576b"
             ],
             [
              0.6666666666666666,
              "#ed7953"
             ],
             [
              0.7777777777777778,
              "#fb9f3a"
             ],
             [
              0.8888888888888888,
              "#fdca26"
             ],
             [
              1,
              "#f0f921"
             ]
            ],
            "type": "heatmapgl"
           }
          ],
          "histogram": [
           {
            "marker": {
             "pattern": {
              "fillmode": "overlay",
              "size": 10,
              "solidity": 0.2
             }
            },
            "type": "histogram"
           }
          ],
          "histogram2d": [
           {
            "colorbar": {
             "outlinewidth": 0,
             "ticks": ""
            },
            "colorscale": [
             [
              0,
              "#0d0887"
             ],
             [
              0.1111111111111111,
              "#46039f"
             ],
             [
              0.2222222222222222,
              "#7201a8"
             ],
             [
              0.3333333333333333,
              "#9c179e"
             ],
             [
              0.4444444444444444,
              "#bd3786"
             ],
             [
              0.5555555555555556,
              "#d8576b"
             ],
             [
              0.6666666666666666,
              "#ed7953"
             ],
             [
              0.7777777777777778,
              "#fb9f3a"
             ],
             [
              0.8888888888888888,
              "#fdca26"
             ],
             [
              1,
              "#f0f921"
             ]
            ],
            "type": "histogram2d"
           }
          ],
          "histogram2dcontour": [
           {
            "colorbar": {
             "outlinewidth": 0,
             "ticks": ""
            },
            "colorscale": [
             [
              0,
              "#0d0887"
             ],
             [
              0.1111111111111111,
              "#46039f"
             ],
             [
              0.2222222222222222,
              "#7201a8"
             ],
             [
              0.3333333333333333,
              "#9c179e"
             ],
             [
              0.4444444444444444,
              "#bd3786"
             ],
             [
              0.5555555555555556,
              "#d8576b"
             ],
             [
              0.6666666666666666,
              "#ed7953"
             ],
             [
              0.7777777777777778,
              "#fb9f3a"
             ],
             [
              0.8888888888888888,
              "#fdca26"
             ],
             [
              1,
              "#f0f921"
             ]
            ],
            "type": "histogram2dcontour"
           }
          ],
          "mesh3d": [
           {
            "colorbar": {
             "outlinewidth": 0,
             "ticks": ""
            },
            "type": "mesh3d"
           }
          ],
          "parcoords": [
           {
            "line": {
             "colorbar": {
              "outlinewidth": 0,
              "ticks": ""
             }
            },
            "type": "parcoords"
           }
          ],
          "pie": [
           {
            "automargin": true,
            "type": "pie"
           }
          ],
          "scatter": [
           {
            "fillpattern": {
             "fillmode": "overlay",
             "size": 10,
             "solidity": 0.2
            },
            "type": "scatter"
           }
          ],
          "scatter3d": [
           {
            "line": {
             "colorbar": {
              "outlinewidth": 0,
              "ticks": ""
             }
            },
            "marker": {
             "colorbar": {
              "outlinewidth": 0,
              "ticks": ""
             }
            },
            "type": "scatter3d"
           }
          ],
          "scattercarpet": [
           {
            "marker": {
             "colorbar": {
              "outlinewidth": 0,
              "ticks": ""
             }
            },
            "type": "scattercarpet"
           }
          ],
          "scattergeo": [
           {
            "marker": {
             "colorbar": {
              "outlinewidth": 0,
              "ticks": ""
             }
            },
            "type": "scattergeo"
           }
          ],
          "scattergl": [
           {
            "marker": {
             "colorbar": {
              "outlinewidth": 0,
              "ticks": ""
             }
            },
            "type": "scattergl"
           }
          ],
          "scattermapbox": [
           {
            "marker": {
             "colorbar": {
              "outlinewidth": 0,
              "ticks": ""
             }
            },
            "type": "scattermapbox"
           }
          ],
          "scatterpolar": [
           {
            "marker": {
             "colorbar": {
              "outlinewidth": 0,
              "ticks": ""
             }
            },
            "type": "scatterpolar"
           }
          ],
          "scatterpolargl": [
           {
            "marker": {
             "colorbar": {
              "outlinewidth": 0,
              "ticks": ""
             }
            },
            "type": "scatterpolargl"
           }
          ],
          "scatterternary": [
           {
            "marker": {
             "colorbar": {
              "outlinewidth": 0,
              "ticks": ""
             }
            },
            "type": "scatterternary"
           }
          ],
          "surface": [
           {
            "colorbar": {
             "outlinewidth": 0,
             "ticks": ""
            },
            "colorscale": [
             [
              0,
              "#0d0887"
             ],
             [
              0.1111111111111111,
              "#46039f"
             ],
             [
              0.2222222222222222,
              "#7201a8"
             ],
             [
              0.3333333333333333,
              "#9c179e"
             ],
             [
              0.4444444444444444,
              "#bd3786"
             ],
             [
              0.5555555555555556,
              "#d8576b"
             ],
             [
              0.6666666666666666,
              "#ed7953"
             ],
             [
              0.7777777777777778,
              "#fb9f3a"
             ],
             [
              0.8888888888888888,
              "#fdca26"
             ],
             [
              1,
              "#f0f921"
             ]
            ],
            "type": "surface"
           }
          ],
          "table": [
           {
            "cells": {
             "fill": {
              "color": "#EBF0F8"
             },
             "line": {
              "color": "white"
             }
            },
            "header": {
             "fill": {
              "color": "#C8D4E3"
             },
             "line": {
              "color": "white"
             }
            },
            "type": "table"
           }
          ]
         },
         "layout": {
          "annotationdefaults": {
           "arrowcolor": "#2a3f5f",
           "arrowhead": 0,
           "arrowwidth": 1
          },
          "autotypenumbers": "strict",
          "coloraxis": {
           "colorbar": {
            "outlinewidth": 0,
            "ticks": ""
           }
          },
          "colorscale": {
           "diverging": [
            [
             0,
             "#8e0152"
            ],
            [
             0.1,
             "#c51b7d"
            ],
            [
             0.2,
             "#de77ae"
            ],
            [
             0.3,
             "#f1b6da"
            ],
            [
             0.4,
             "#fde0ef"
            ],
            [
             0.5,
             "#f7f7f7"
            ],
            [
             0.6,
             "#e6f5d0"
            ],
            [
             0.7,
             "#b8e186"
            ],
            [
             0.8,
             "#7fbc41"
            ],
            [
             0.9,
             "#4d9221"
            ],
            [
             1,
             "#276419"
            ]
           ],
           "sequential": [
            [
             0,
             "#0d0887"
            ],
            [
             0.1111111111111111,
             "#46039f"
            ],
            [
             0.2222222222222222,
             "#7201a8"
            ],
            [
             0.3333333333333333,
             "#9c179e"
            ],
            [
             0.4444444444444444,
             "#bd3786"
            ],
            [
             0.5555555555555556,
             "#d8576b"
            ],
            [
             0.6666666666666666,
             "#ed7953"
            ],
            [
             0.7777777777777778,
             "#fb9f3a"
            ],
            [
             0.8888888888888888,
             "#fdca26"
            ],
            [
             1,
             "#f0f921"
            ]
           ],
           "sequentialminus": [
            [
             0,
             "#0d0887"
            ],
            [
             0.1111111111111111,
             "#46039f"
            ],
            [
             0.2222222222222222,
             "#7201a8"
            ],
            [
             0.3333333333333333,
             "#9c179e"
            ],
            [
             0.4444444444444444,
             "#bd3786"
            ],
            [
             0.5555555555555556,
             "#d8576b"
            ],
            [
             0.6666666666666666,
             "#ed7953"
            ],
            [
             0.7777777777777778,
             "#fb9f3a"
            ],
            [
             0.8888888888888888,
             "#fdca26"
            ],
            [
             1,
             "#f0f921"
            ]
           ]
          },
          "colorway": [
           "#636efa",
           "#EF553B",
           "#00cc96",
           "#ab63fa",
           "#FFA15A",
           "#19d3f3",
           "#FF6692",
           "#B6E880",
           "#FF97FF",
           "#FECB52"
          ],
          "font": {
           "color": "#2a3f5f"
          },
          "geo": {
           "bgcolor": "white",
           "lakecolor": "white",
           "landcolor": "#E5ECF6",
           "showlakes": true,
           "showland": true,
           "subunitcolor": "white"
          },
          "hoverlabel": {
           "align": "left"
          },
          "hovermode": "closest",
          "mapbox": {
           "style": "light"
          },
          "paper_bgcolor": "white",
          "plot_bgcolor": "#E5ECF6",
          "polar": {
           "angularaxis": {
            "gridcolor": "white",
            "linecolor": "white",
            "ticks": ""
           },
           "bgcolor": "#E5ECF6",
           "radialaxis": {
            "gridcolor": "white",
            "linecolor": "white",
            "ticks": ""
           }
          },
          "scene": {
           "xaxis": {
            "backgroundcolor": "#E5ECF6",
            "gridcolor": "white",
            "gridwidth": 2,
            "linecolor": "white",
            "showbackground": true,
            "ticks": "",
            "zerolinecolor": "white"
           },
           "yaxis": {
            "backgroundcolor": "#E5ECF6",
            "gridcolor": "white",
            "gridwidth": 2,
            "linecolor": "white",
            "showbackground": true,
            "ticks": "",
            "zerolinecolor": "white"
           },
           "zaxis": {
            "backgroundcolor": "#E5ECF6",
            "gridcolor": "white",
            "gridwidth": 2,
            "linecolor": "white",
            "showbackground": true,
            "ticks": "",
            "zerolinecolor": "white"
           }
          },
          "shapedefaults": {
           "line": {
            "color": "#2a3f5f"
           }
          },
          "ternary": {
           "aaxis": {
            "gridcolor": "white",
            "linecolor": "white",
            "ticks": ""
           },
           "baxis": {
            "gridcolor": "white",
            "linecolor": "white",
            "ticks": ""
           },
           "bgcolor": "#E5ECF6",
           "caxis": {
            "gridcolor": "white",
            "linecolor": "white",
            "ticks": ""
           }
          },
          "title": {
           "x": 0.05
          },
          "xaxis": {
           "automargin": true,
           "gridcolor": "white",
           "linecolor": "white",
           "ticks": "",
           "title": {
            "standoff": 15
           },
           "zerolinecolor": "white",
           "zerolinewidth": 2
          },
          "yaxis": {
           "automargin": true,
           "gridcolor": "white",
           "linecolor": "white",
           "ticks": "",
           "title": {
            "standoff": 15
           },
           "zerolinecolor": "white",
           "zerolinewidth": 2
          }
         }
        }
       }
      }
     },
     "metadata": {},
     "output_type": "display_data"
    }
   ],
   "source": [
    "# Positions\n",
    "positions = ['PG', 'SG', 'SF', 'PF', 'C']\n",
    "\n",
    "# Ages and name of the youngest players\n",
    "youngest_names = [youngest_pg['Player'].values[0], youngest_sg['Player'].values[0], youngest_sf['Player'].values[0], youngest_pf['Player'].values[0], youngest_c['Player'].values[0]]\n",
    "youngest_ages = [youngest_pg['Age'].values[0], youngest_sg['Age'].values[0], youngest_sf['Age'].values[0], youngest_pf['Age'].values[0], youngest_c['Age'].values[0]]\n",
    "\n",
    "# Ages and name of the oldest players\n",
    "oldest_names = [oldest_pg['Player'].values[0], oldest_sg['Player'].values[0], oldest_sf['Player'].values[0], oldest_pf['Player'].values[0], oldest_c['Player'].values[0]]\n",
    "oldest_ages = [oldest_pg['Age'].values[0], oldest_sg['Age'].values[0], oldest_sf['Age'].values[0], oldest_pf['Age'].values[0], oldest_c['Age'].values[0]]\n",
    "\n",
    "# Create the bar chart\n",
    "fig = go.Figure(data=[\n",
    "    go.Bar(name='Youngest', x=positions, y=youngest_ages, text=youngest_names, textposition='auto'),\n",
    "    go.Bar(name='Oldest', x=positions, y=oldest_ages, text=oldest_names, textposition='auto')\n",
    "])\n",
    "\n",
    "# Change the bar mode\n",
    "fig.update_layout(barmode='group')\n",
    "\n",
    "# Show the figure\n",
    "fig.show()"
   ]
  },
  {
   "cell_type": "markdown",
   "metadata": {},
   "source": [
    "Here we just wanted to see the age difference in the oldest player vs the youngest player in each position. Now lets look at how the stats compare for each player. "
   ]
  },
  {
   "cell_type": "code",
   "execution_count": 49,
   "metadata": {},
   "outputs": [
    {
     "data": {
      "application/vnd.plotly.v1+json": {
       "config": {
        "plotlyServerURL": "https://plot.ly"
       },
       "data": [
        {
         "marker": {
          "color": [
           "blue",
           "blue",
           "blue",
           "blue",
           "blue",
           "orange",
           "orange",
           "orange",
           "orange",
           "orange"
          ]
         },
         "name": "Age",
         "type": "bar",
         "x": [
          "Cade Cunningham",
          "Malaki Branham",
          "Scottie Barnes",
          "Jabari Smith Jr.",
          "Jalen Duren",
          "Chris Paul",
          "Eric Gordon",
          "Wesley Matthews",
          "LeBron James",
          "Al Horford"
         ],
         "y": [
          21,
          19,
          21,
          19,
          19,
          37,
          34,
          36,
          38,
          36
         ]
        },
        {
         "marker": {
          "color": [
           "blue",
           "blue",
           "blue",
           "blue",
           "blue",
           "orange",
           "orange",
           "orange",
           "orange",
           "orange"
          ]
         },
         "name": "PTS",
         "type": "bar",
         "x": [
          "Cade Cunningham",
          "Malaki Branham",
          "Scottie Barnes",
          "Jabari Smith Jr.",
          "Jalen Duren",
          "Chris Paul",
          "Eric Gordon",
          "Wesley Matthews",
          "LeBron James",
          "Al Horford"
         ],
         "y": [
          19.9,
          10.2,
          15.3,
          12.8,
          9.1,
          13.9,
          10.2,
          6,
          24.5,
          6.7
         ]
        },
        {
         "marker": {
          "color": [
           "blue",
           "blue",
           "blue",
           "blue",
           "blue",
           "orange",
           "orange",
           "orange",
           "orange",
           "orange"
          ]
         },
         "name": "AST",
         "type": "bar",
         "x": [
          "Cade Cunningham",
          "Malaki Branham",
          "Scottie Barnes",
          "Jabari Smith Jr.",
          "Jalen Duren",
          "Chris Paul",
          "Eric Gordon",
          "Wesley Matthews",
          "LeBron James",
          "Al Horford"
         ],
         "y": [
          6,
          1.9,
          4.8,
          1.3,
          1.1,
          8.9,
          2.6,
          0.5,
          6.5,
          3
         ]
        },
        {
         "marker": {
          "color": [
           "blue",
           "blue",
           "blue",
           "blue",
           "blue",
           "orange",
           "orange",
           "orange",
           "orange",
           "orange"
          ]
         },
         "name": "TRB",
         "type": "bar",
         "x": [
          "Cade Cunningham",
          "Malaki Branham",
          "Scottie Barnes",
          "Jabari Smith Jr.",
          "Jalen Duren",
          "Chris Paul",
          "Eric Gordon",
          "Wesley Matthews",
          "LeBron James",
          "Al Horford"
         ],
         "y": [
          6.2,
          2.7,
          6.6,
          7.2,
          8.9,
          4.3,
          1.4,
          1.5,
          9.9,
          7.2
         ]
        }
       ],
       "layout": {
        "barmode": "group",
        "template": {
         "data": {
          "bar": [
           {
            "error_x": {
             "color": "#2a3f5f"
            },
            "error_y": {
             "color": "#2a3f5f"
            },
            "marker": {
             "line": {
              "color": "#E5ECF6",
              "width": 0.5
             },
             "pattern": {
              "fillmode": "overlay",
              "size": 10,
              "solidity": 0.2
             }
            },
            "type": "bar"
           }
          ],
          "barpolar": [
           {
            "marker": {
             "line": {
              "color": "#E5ECF6",
              "width": 0.5
             },
             "pattern": {
              "fillmode": "overlay",
              "size": 10,
              "solidity": 0.2
             }
            },
            "type": "barpolar"
           }
          ],
          "carpet": [
           {
            "aaxis": {
             "endlinecolor": "#2a3f5f",
             "gridcolor": "white",
             "linecolor": "white",
             "minorgridcolor": "white",
             "startlinecolor": "#2a3f5f"
            },
            "baxis": {
             "endlinecolor": "#2a3f5f",
             "gridcolor": "white",
             "linecolor": "white",
             "minorgridcolor": "white",
             "startlinecolor": "#2a3f5f"
            },
            "type": "carpet"
           }
          ],
          "choropleth": [
           {
            "colorbar": {
             "outlinewidth": 0,
             "ticks": ""
            },
            "type": "choropleth"
           }
          ],
          "contour": [
           {
            "colorbar": {
             "outlinewidth": 0,
             "ticks": ""
            },
            "colorscale": [
             [
              0,
              "#0d0887"
             ],
             [
              0.1111111111111111,
              "#46039f"
             ],
             [
              0.2222222222222222,
              "#7201a8"
             ],
             [
              0.3333333333333333,
              "#9c179e"
             ],
             [
              0.4444444444444444,
              "#bd3786"
             ],
             [
              0.5555555555555556,
              "#d8576b"
             ],
             [
              0.6666666666666666,
              "#ed7953"
             ],
             [
              0.7777777777777778,
              "#fb9f3a"
             ],
             [
              0.8888888888888888,
              "#fdca26"
             ],
             [
              1,
              "#f0f921"
             ]
            ],
            "type": "contour"
           }
          ],
          "contourcarpet": [
           {
            "colorbar": {
             "outlinewidth": 0,
             "ticks": ""
            },
            "type": "contourcarpet"
           }
          ],
          "heatmap": [
           {
            "colorbar": {
             "outlinewidth": 0,
             "ticks": ""
            },
            "colorscale": [
             [
              0,
              "#0d0887"
             ],
             [
              0.1111111111111111,
              "#46039f"
             ],
             [
              0.2222222222222222,
              "#7201a8"
             ],
             [
              0.3333333333333333,
              "#9c179e"
             ],
             [
              0.4444444444444444,
              "#bd3786"
             ],
             [
              0.5555555555555556,
              "#d8576b"
             ],
             [
              0.6666666666666666,
              "#ed7953"
             ],
             [
              0.7777777777777778,
              "#fb9f3a"
             ],
             [
              0.8888888888888888,
              "#fdca26"
             ],
             [
              1,
              "#f0f921"
             ]
            ],
            "type": "heatmap"
           }
          ],
          "heatmapgl": [
           {
            "colorbar": {
             "outlinewidth": 0,
             "ticks": ""
            },
            "colorscale": [
             [
              0,
              "#0d0887"
             ],
             [
              0.1111111111111111,
              "#46039f"
             ],
             [
              0.2222222222222222,
              "#7201a8"
             ],
             [
              0.3333333333333333,
              "#9c179e"
             ],
             [
              0.4444444444444444,
              "#bd3786"
             ],
             [
              0.5555555555555556,
              "#d8576b"
             ],
             [
              0.6666666666666666,
              "#ed7953"
             ],
             [
              0.7777777777777778,
              "#fb9f3a"
             ],
             [
              0.8888888888888888,
              "#fdca26"
             ],
             [
              1,
              "#f0f921"
             ]
            ],
            "type": "heatmapgl"
           }
          ],
          "histogram": [
           {
            "marker": {
             "pattern": {
              "fillmode": "overlay",
              "size": 10,
              "solidity": 0.2
             }
            },
            "type": "histogram"
           }
          ],
          "histogram2d": [
           {
            "colorbar": {
             "outlinewidth": 0,
             "ticks": ""
            },
            "colorscale": [
             [
              0,
              "#0d0887"
             ],
             [
              0.1111111111111111,
              "#46039f"
             ],
             [
              0.2222222222222222,
              "#7201a8"
             ],
             [
              0.3333333333333333,
              "#9c179e"
             ],
             [
              0.4444444444444444,
              "#bd3786"
             ],
             [
              0.5555555555555556,
              "#d8576b"
             ],
             [
              0.6666666666666666,
              "#ed7953"
             ],
             [
              0.7777777777777778,
              "#fb9f3a"
             ],
             [
              0.8888888888888888,
              "#fdca26"
             ],
             [
              1,
              "#f0f921"
             ]
            ],
            "type": "histogram2d"
           }
          ],
          "histogram2dcontour": [
           {
            "colorbar": {
             "outlinewidth": 0,
             "ticks": ""
            },
            "colorscale": [
             [
              0,
              "#0d0887"
             ],
             [
              0.1111111111111111,
              "#46039f"
             ],
             [
              0.2222222222222222,
              "#7201a8"
             ],
             [
              0.3333333333333333,
              "#9c179e"
             ],
             [
              0.4444444444444444,
              "#bd3786"
             ],
             [
              0.5555555555555556,
              "#d8576b"
             ],
             [
              0.6666666666666666,
              "#ed7953"
             ],
             [
              0.7777777777777778,
              "#fb9f3a"
             ],
             [
              0.8888888888888888,
              "#fdca26"
             ],
             [
              1,
              "#f0f921"
             ]
            ],
            "type": "histogram2dcontour"
           }
          ],
          "mesh3d": [
           {
            "colorbar": {
             "outlinewidth": 0,
             "ticks": ""
            },
            "type": "mesh3d"
           }
          ],
          "parcoords": [
           {
            "line": {
             "colorbar": {
              "outlinewidth": 0,
              "ticks": ""
             }
            },
            "type": "parcoords"
           }
          ],
          "pie": [
           {
            "automargin": true,
            "type": "pie"
           }
          ],
          "scatter": [
           {
            "fillpattern": {
             "fillmode": "overlay",
             "size": 10,
             "solidity": 0.2
            },
            "type": "scatter"
           }
          ],
          "scatter3d": [
           {
            "line": {
             "colorbar": {
              "outlinewidth": 0,
              "ticks": ""
             }
            },
            "marker": {
             "colorbar": {
              "outlinewidth": 0,
              "ticks": ""
             }
            },
            "type": "scatter3d"
           }
          ],
          "scattercarpet": [
           {
            "marker": {
             "colorbar": {
              "outlinewidth": 0,
              "ticks": ""
             }
            },
            "type": "scattercarpet"
           }
          ],
          "scattergeo": [
           {
            "marker": {
             "colorbar": {
              "outlinewidth": 0,
              "ticks": ""
             }
            },
            "type": "scattergeo"
           }
          ],
          "scattergl": [
           {
            "marker": {
             "colorbar": {
              "outlinewidth": 0,
              "ticks": ""
             }
            },
            "type": "scattergl"
           }
          ],
          "scattermapbox": [
           {
            "marker": {
             "colorbar": {
              "outlinewidth": 0,
              "ticks": ""
             }
            },
            "type": "scattermapbox"
           }
          ],
          "scatterpolar": [
           {
            "marker": {
             "colorbar": {
              "outlinewidth": 0,
              "ticks": ""
             }
            },
            "type": "scatterpolar"
           }
          ],
          "scatterpolargl": [
           {
            "marker": {
             "colorbar": {
              "outlinewidth": 0,
              "ticks": ""
             }
            },
            "type": "scatterpolargl"
           }
          ],
          "scatterternary": [
           {
            "marker": {
             "colorbar": {
              "outlinewidth": 0,
              "ticks": ""
             }
            },
            "type": "scatterternary"
           }
          ],
          "surface": [
           {
            "colorbar": {
             "outlinewidth": 0,
             "ticks": ""
            },
            "colorscale": [
             [
              0,
              "#0d0887"
             ],
             [
              0.1111111111111111,
              "#46039f"
             ],
             [
              0.2222222222222222,
              "#7201a8"
             ],
             [
              0.3333333333333333,
              "#9c179e"
             ],
             [
              0.4444444444444444,
              "#bd3786"
             ],
             [
              0.5555555555555556,
              "#d8576b"
             ],
             [
              0.6666666666666666,
              "#ed7953"
             ],
             [
              0.7777777777777778,
              "#fb9f3a"
             ],
             [
              0.8888888888888888,
              "#fdca26"
             ],
             [
              1,
              "#f0f921"
             ]
            ],
            "type": "surface"
           }
          ],
          "table": [
           {
            "cells": {
             "fill": {
              "color": "#EBF0F8"
             },
             "line": {
              "color": "white"
             }
            },
            "header": {
             "fill": {
              "color": "#C8D4E3"
             },
             "line": {
              "color": "white"
             }
            },
            "type": "table"
           }
          ]
         },
         "layout": {
          "annotationdefaults": {
           "arrowcolor": "#2a3f5f",
           "arrowhead": 0,
           "arrowwidth": 1
          },
          "autotypenumbers": "strict",
          "coloraxis": {
           "colorbar": {
            "outlinewidth": 0,
            "ticks": ""
           }
          },
          "colorscale": {
           "diverging": [
            [
             0,
             "#8e0152"
            ],
            [
             0.1,
             "#c51b7d"
            ],
            [
             0.2,
             "#de77ae"
            ],
            [
             0.3,
             "#f1b6da"
            ],
            [
             0.4,
             "#fde0ef"
            ],
            [
             0.5,
             "#f7f7f7"
            ],
            [
             0.6,
             "#e6f5d0"
            ],
            [
             0.7,
             "#b8e186"
            ],
            [
             0.8,
             "#7fbc41"
            ],
            [
             0.9,
             "#4d9221"
            ],
            [
             1,
             "#276419"
            ]
           ],
           "sequential": [
            [
             0,
             "#0d0887"
            ],
            [
             0.1111111111111111,
             "#46039f"
            ],
            [
             0.2222222222222222,
             "#7201a8"
            ],
            [
             0.3333333333333333,
             "#9c179e"
            ],
            [
             0.4444444444444444,
             "#bd3786"
            ],
            [
             0.5555555555555556,
             "#d8576b"
            ],
            [
             0.6666666666666666,
             "#ed7953"
            ],
            [
             0.7777777777777778,
             "#fb9f3a"
            ],
            [
             0.8888888888888888,
             "#fdca26"
            ],
            [
             1,
             "#f0f921"
            ]
           ],
           "sequentialminus": [
            [
             0,
             "#0d0887"
            ],
            [
             0.1111111111111111,
             "#46039f"
            ],
            [
             0.2222222222222222,
             "#7201a8"
            ],
            [
             0.3333333333333333,
             "#9c179e"
            ],
            [
             0.4444444444444444,
             "#bd3786"
            ],
            [
             0.5555555555555556,
             "#d8576b"
            ],
            [
             0.6666666666666666,
             "#ed7953"
            ],
            [
             0.7777777777777778,
             "#fb9f3a"
            ],
            [
             0.8888888888888888,
             "#fdca26"
            ],
            [
             1,
             "#f0f921"
            ]
           ]
          },
          "colorway": [
           "#636efa",
           "#EF553B",
           "#00cc96",
           "#ab63fa",
           "#FFA15A",
           "#19d3f3",
           "#FF6692",
           "#B6E880",
           "#FF97FF",
           "#FECB52"
          ],
          "font": {
           "color": "#2a3f5f"
          },
          "geo": {
           "bgcolor": "white",
           "lakecolor": "white",
           "landcolor": "#E5ECF6",
           "showlakes": true,
           "showland": true,
           "subunitcolor": "white"
          },
          "hoverlabel": {
           "align": "left"
          },
          "hovermode": "closest",
          "mapbox": {
           "style": "light"
          },
          "paper_bgcolor": "white",
          "plot_bgcolor": "#E5ECF6",
          "polar": {
           "angularaxis": {
            "gridcolor": "white",
            "linecolor": "white",
            "ticks": ""
           },
           "bgcolor": "#E5ECF6",
           "radialaxis": {
            "gridcolor": "white",
            "linecolor": "white",
            "ticks": ""
           }
          },
          "scene": {
           "xaxis": {
            "backgroundcolor": "#E5ECF6",
            "gridcolor": "white",
            "gridwidth": 2,
            "linecolor": "white",
            "showbackground": true,
            "ticks": "",
            "zerolinecolor": "white"
           },
           "yaxis": {
            "backgroundcolor": "#E5ECF6",
            "gridcolor": "white",
            "gridwidth": 2,
            "linecolor": "white",
            "showbackground": true,
            "ticks": "",
            "zerolinecolor": "white"
           },
           "zaxis": {
            "backgroundcolor": "#E5ECF6",
            "gridcolor": "white",
            "gridwidth": 2,
            "linecolor": "white",
            "showbackground": true,
            "ticks": "",
            "zerolinecolor": "white"
           }
          },
          "shapedefaults": {
           "line": {
            "color": "#2a3f5f"
           }
          },
          "ternary": {
           "aaxis": {
            "gridcolor": "white",
            "linecolor": "white",
            "ticks": ""
           },
           "baxis": {
            "gridcolor": "white",
            "linecolor": "white",
            "ticks": ""
           },
           "bgcolor": "#E5ECF6",
           "caxis": {
            "gridcolor": "white",
            "linecolor": "white",
            "ticks": ""
           }
          },
          "title": {
           "x": 0.05
          },
          "xaxis": {
           "automargin": true,
           "gridcolor": "white",
           "linecolor": "white",
           "ticks": "",
           "title": {
            "standoff": 15
           },
           "zerolinecolor": "white",
           "zerolinewidth": 2
          },
          "yaxis": {
           "automargin": true,
           "gridcolor": "white",
           "linecolor": "white",
           "ticks": "",
           "title": {
            "standoff": 15
           },
           "zerolinecolor": "white",
           "zerolinewidth": 2
          }
         }
        },
        "title": {
         "text": "Stats for Youngest and Oldest Players"
        }
       }
      }
     },
     "metadata": {},
     "output_type": "display_data"
    }
   ],
   "source": [
    "# Create a DataFrame for the youngest and oldest players\n",
    "players_df = pd.DataFrame({\n",
    "    'Position': ['PG', 'SG', 'SF', 'PF', 'C', 'PG', 'SG', 'SF', 'PF', 'C'],\n",
    "    'Player': [youngest_pg['Player'].values[0], youngest_sg['Player'].values[0], youngest_sf['Player'].values[0], youngest_pf['Player'].values[0], youngest_c['Player'].values[0], oldest_pg['Player'].values[0], oldest_sg['Player'].values[0], oldest_sf['Player'].values[0], oldest_pf['Player'].values[0], oldest_c['Player'].values[0]],\n",
    "    'Age': [youngest_pg['Age'].values[0], youngest_sg['Age'].values[0], youngest_sf['Age'].values[0], youngest_pf['Age'].values[0], youngest_c['Age'].values[0], oldest_pg['Age'].values[0], oldest_sg['Age'].values[0], oldest_sf['Age'].values[0], oldest_pf['Age'].values[0], oldest_c['Age'].values[0]],\n",
    "    'PTS': [youngest_pg['PTS'].values[0], youngest_sg['PTS'].values[0], youngest_sf['PTS'].values[0], youngest_pf['PTS'].values[0], youngest_c['PTS'].values[0], oldest_pg['PTS'].values[0], oldest_sg['PTS'].values[0], oldest_sf['PTS'].values[0], oldest_pf['PTS'].values[0], oldest_c['PTS'].values[0]],\n",
    "    'AST': [youngest_pg['AST'].values[0], youngest_sg['AST'].values[0], youngest_sf['AST'].values[0], youngest_pf['AST'].values[0], youngest_c['AST'].values[0], oldest_pg['AST'].values[0], oldest_sg['AST'].values[0], oldest_sf['AST'].values[0], oldest_pf['AST'].values[0], oldest_c['AST'].values[0]],\n",
    "    'TRB': [youngest_pg['TRB'].values[0], youngest_sg['TRB'].values[0], youngest_sf['TRB'].values[0], youngest_pf['TRB'].values[0], youngest_c['TRB'].values[0], oldest_pg['TRB'].values[0], oldest_sg['TRB'].values[0], oldest_sf['TRB'].values[0], oldest_pf['TRB'].values[0], oldest_c['TRB'].values[0]],\n",
    "    'Type': ['Youngest', 'Youngest', 'Youngest', 'Youngest', 'Youngest', 'Oldest', 'Oldest', 'Oldest', 'Oldest', 'Oldest']\n",
    "})\n",
    "\n",
    "# Create a bar chart for the players\n",
    "fig = go.Figure()\n",
    "\n",
    "# Add traces for each stat\n",
    "fig.add_trace(go.Bar(name='Age', x=players_df['Player'], y=players_df['Age'], marker_color=players_df['Type'].map({'Youngest': 'blue', 'Oldest': 'orange'})))\n",
    "fig.add_trace(go.Bar(name='PTS', x=players_df['Player'], y=players_df['PTS'], marker_color=players_df['Type'].map({'Youngest': 'blue', 'Oldest': 'orange'})))\n",
    "fig.add_trace(go.Bar(name='AST', x=players_df['Player'], y=players_df['AST'], marker_color=players_df['Type'].map({'Youngest': 'blue', 'Oldest': 'orange'})))\n",
    "fig.add_trace(go.Bar(name='TRB', x=players_df['Player'], y=players_df['TRB'], marker_color=players_df['Type'].map({'Youngest': 'blue', 'Oldest': 'orange'})))\n",
    "\n",
    "# Change the bar mode\n",
    "fig.update_layout(barmode='group', title_text='Stats for Youngest and Oldest Players')\n",
    "\n",
    "# Show the figure\n",
    "fig.show()"
   ]
  },
  {
   "cell_type": "markdown",
   "metadata": {},
   "source": [
    "Just by looking at the graph we can't really see if age difference has an impact of the player stats for each position, as we can see that some older players perform better and some younger players perform better. "
   ]
  },
  {
   "cell_type": "markdown",
   "metadata": {},
   "source": [
    "Now we want to gather just data on the top 10 scores from all the years of data that we have scraped and store it in a CSV file that we can imported to tableau and create some interactive dashboards to gain more insights from the data."
   ]
  },
  {
   "cell_type": "code",
   "execution_count": 50,
   "metadata": {},
   "outputs": [],
   "source": [
    "nba_season_2009_2010_top10 = NBA_season_2009_2010.sort_values('PTS', ascending=False).head(10)\n",
    "nba_season_2010_2011_top10 = NBA_season_2010_2011.sort_values('PTS', ascending=False).head(10)  \n",
    "nba_season_2011_2012_top10 = NBA_season_2011_2012.sort_values('PTS', ascending=False).head(10)\n",
    "nba_season_2012_2013_top10 = NBA_season_2012_2013.sort_values('PTS', ascending=False).head(10)\n",
    "nba_season_2013_2014_top10 = NBA_season_2013_2014.sort_values('PTS', ascending=False).head(10)\n",
    "nba_season_2014_2015_top10 = NBA_season_2014_2015.sort_values('PTS', ascending=False).head(10)\n",
    "nba_season_2015_2016_top10 = NBA_season_2015_2016.sort_values('PTS', ascending=False).head(10)\n",
    "nba_season_2016_2017_top10 = NBA_season_2016_2017.sort_values('PTS', ascending=False).head(10)\n",
    "nba_season_2017_2018_top10 = NBA_season_2017_2018.sort_values('PTS', ascending=False).head(10)\n",
    "nba_season_2018_2019_top10 = NBA_season_2018_2019.sort_values('PTS', ascending=False).head(10)\n",
    "nba_season_2019_2020_top10 = NBA_season_2019_2020.sort_values('PTS', ascending=False).head(10)\n",
    "nba_season_2020_2021_top10 = NBA_season_2020_2021.sort_values('PTS', ascending=False).head(10)\n",
    "nba_season_2021_2022_top10 = NBA_season_2021_2022.sort_values('PTS', ascending=False).head(10)\n",
    "nba_season_2022_2023_top10 = NBA_season_2022_2023.sort_values('PTS', ascending=False).head(10)\n",
    "nba_season_2023_2024_top10 = NBA_season_2023_2024.sort_values('PTS', ascending=False).head(10)\n"
   ]
  },
  {
   "cell_type": "code",
   "execution_count": 51,
   "metadata": {},
   "outputs": [],
   "source": [
    "# Now to combine all the top 10 players from each season\n",
    "all_seasons_top10 = pd.concat([nba_season_2009_2010_top10, nba_season_2010_2011_top10, nba_season_2011_2012_top10, \n",
    "                               nba_season_2012_2013_top10, nba_season_2013_2014_top10, nba_season_2014_2015_top10, \n",
    "                               nba_season_2015_2016_top10, nba_season_2016_2017_top10, nba_season_2017_2018_top10, \n",
    "                               nba_season_2018_2019_top10, nba_season_2019_2020_top10, nba_season_2020_2021_top10, \n",
    "                               nba_season_2021_2022_top10, nba_season_2022_2023_top10, nba_season_2023_2024_top10], \n",
    "                              ignore_index=True)"
   ]
  },
  {
   "cell_type": "markdown",
   "metadata": {},
   "source": [
    "Now to create the csv file that we will use in Tableau"
   ]
  },
  {
   "cell_type": "code",
   "execution_count": 52,
   "metadata": {},
   "outputs": [],
   "source": [
    "all_seasons_top10.to_csv('top10_players.csv', index=False)"
   ]
  },
  {
   "cell_type": "code",
   "execution_count": null,
   "metadata": {},
   "outputs": [],
   "source": []
  }
 ],
 "metadata": {
  "kernelspec": {
   "display_name": "Python 3",
   "language": "python",
   "name": "python3"
  },
  "language_info": {
   "codemirror_mode": {
    "name": "ipython",
    "version": 3
   },
   "file_extension": ".py",
   "mimetype": "text/x-python",
   "name": "python",
   "nbconvert_exporter": "python",
   "pygments_lexer": "ipython3",
   "version": "3.9.6"
  }
 },
 "nbformat": 4,
 "nbformat_minor": 2
}
